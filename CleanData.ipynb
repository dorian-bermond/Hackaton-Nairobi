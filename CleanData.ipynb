{
 "cells": [
  {
   "cell_type": "markdown",
   "metadata": {},
   "source": [
    "# Read data (pickle files) / Lire les donnees (fichiers pickle)"
   ]
  },
  {
   "cell_type": "markdown",
   "metadata": {},
   "source": [
    "## 1. Import needed function / Import des fonctions necessaires"
   ]
  },
  {
   "cell_type": "code",
   "execution_count": 1,
   "metadata": {},
   "outputs": [],
   "source": [
    "import pandas as pd\n",
    "import matplotlib.pyplot as plt\n",
    "import numpy as np\n",
    "from shapely.geometry import Point, Polygon"
   ]
  },
  {
   "cell_type": "markdown",
   "metadata": {},
   "source": [
    "## 2. Get the data / Recuperation des donnees"
   ]
  },
  {
   "cell_type": "code",
   "execution_count": 2,
   "metadata": {},
   "outputs": [],
   "source": [
    "# Shanghai Boundaries\n",
    "shanghaiMinLongitude = 121.10157 ;\n",
    "shanghaiMaxLongitude = 121.804611 ;\n",
    "shanghaiMinLatitude = 30.975 ;\n",
    "shanghaiMaxLatitude = 31.514999 ;"
   ]
  },
  {
   "cell_type": "code",
   "execution_count": 5,
   "metadata": {},
   "outputs": [
    {
     "data": {
      "text/html": [
       "<div>\n",
       "<style scoped>\n",
       "    .dataframe tbody tr th:only-of-type {\n",
       "        vertical-align: middle;\n",
       "    }\n",
       "\n",
       "    .dataframe tbody tr th {\n",
       "        vertical-align: top;\n",
       "    }\n",
       "\n",
       "    .dataframe thead th {\n",
       "        text-align: right;\n",
       "    }\n",
       "</style>\n",
       "<table border=\"1\" class=\"dataframe\">\n",
       "  <thead>\n",
       "    <tr style=\"text-align: right;\">\n",
       "      <th></th>\n",
       "      <th>taxi_id</th>\n",
       "      <th>time</th>\n",
       "      <th>status</th>\n",
       "      <th>lon</th>\n",
       "      <th>lat</th>\n",
       "      <th>speed</th>\n",
       "      <th>geometry</th>\n",
       "    </tr>\n",
       "  </thead>\n",
       "  <tbody>\n",
       "    <tr>\n",
       "      <th>0</th>\n",
       "      <td>24029</td>\n",
       "      <td>2015-04-11</td>\n",
       "      <td>0</td>\n",
       "      <td>121.421822</td>\n",
       "      <td>31.212080</td>\n",
       "      <td>19.6</td>\n",
       "      <td>POINT (121.42653 31.21023)</td>\n",
       "    </tr>\n",
       "    <tr>\n",
       "      <th>1</th>\n",
       "      <td>24029</td>\n",
       "      <td>2015-04-11</td>\n",
       "      <td>0</td>\n",
       "      <td>121.423275</td>\n",
       "      <td>31.212148</td>\n",
       "      <td>15.8</td>\n",
       "      <td>POINT (121.42798 31.21029)</td>\n",
       "    </tr>\n",
       "    <tr>\n",
       "      <th>2</th>\n",
       "      <td>24029</td>\n",
       "      <td>2015-04-11</td>\n",
       "      <td>0</td>\n",
       "      <td>121.424295</td>\n",
       "      <td>31.212597</td>\n",
       "      <td>11.5</td>\n",
       "      <td>POINT (121.42900 31.21074)</td>\n",
       "    </tr>\n",
       "    <tr>\n",
       "      <th>3</th>\n",
       "      <td>24029</td>\n",
       "      <td>2015-04-11</td>\n",
       "      <td>0</td>\n",
       "      <td>121.426872</td>\n",
       "      <td>31.215222</td>\n",
       "      <td>6.5</td>\n",
       "      <td>POINT (121.43157 31.21337)</td>\n",
       "    </tr>\n",
       "    <tr>\n",
       "      <th>4</th>\n",
       "      <td>24029</td>\n",
       "      <td>2015-04-11</td>\n",
       "      <td>0</td>\n",
       "      <td>121.427138</td>\n",
       "      <td>31.215365</td>\n",
       "      <td>6.7</td>\n",
       "      <td>POINT (121.43184 31.21351)</td>\n",
       "    </tr>\n",
       "  </tbody>\n",
       "</table>\n",
       "</div>"
      ],
      "text/plain": [
       "   taxi_id        time  status         lon        lat  speed  \\\n",
       "0    24029  2015-04-11       0  121.421822  31.212080   19.6   \n",
       "1    24029  2015-04-11       0  121.423275  31.212148   15.8   \n",
       "2    24029  2015-04-11       0  121.424295  31.212597   11.5   \n",
       "3    24029  2015-04-11       0  121.426872  31.215222    6.5   \n",
       "4    24029  2015-04-11       0  121.427138  31.215365    6.7   \n",
       "\n",
       "                     geometry  \n",
       "0  POINT (121.42653 31.21023)  \n",
       "1  POINT (121.42798 31.21029)  \n",
       "2  POINT (121.42900 31.21074)  \n",
       "3  POINT (121.43157 31.21337)  \n",
       "4  POINT (121.43184 31.21351)  "
      ]
     },
     "execution_count": 5,
     "metadata": {},
     "output_type": "execute_result"
    }
   ],
   "source": [
    "path = \"pickles/utseus-shanghai-taxi-speed-position.pk\" # Path of the pickle file / Chemin du fichier pickle\n",
    "df = pd.read_pickle(path) # Get the data / recupere les donnees\n",
    "if (type(df) == list) :\n",
    "    df = pd.DataFrame(data = df, columns = df[0]) \n",
    "    df = df.drop(df.index[0])\n",
    "df.head() # Print first pieces of data / Affiche les premiere donnees"
   ]
  },
  {
   "cell_type": "markdown",
   "metadata": {},
   "source": [
    "## 3. Clear Data"
   ]
  },
  {
   "cell_type": "markdown",
   "metadata": {},
   "source": [
    "### 3.1 Basic clear / Nettoyage basique "
   ]
  },
  {
   "cell_type": "code",
   "execution_count": 72,
   "metadata": {},
   "outputs": [],
   "source": [
    "\"\"\"\n",
    "def tryToDrop(dfName, function, criticalDropSizePercentage) :\n",
    "    dfSize = exec(dfName + \".size\")\n",
    "    droppedDf = exec(dfName + function)\n",
    "    if(droppedDf.empty) :\n",
    "        droppedSize = 0\n",
    "    else :\n",
    "        droppedSize = droppedDf.size\n",
    "    droppedSizePercentage = 100 * (dfSize - droppedDfSize) / dfSize\n",
    "    if (droppedSizePercentage < criticalDropSizePercentage) :\n",
    "        exec(dfName + \"= droppedDf\")\n",
    "    else :\n",
    "        answer = '0'\n",
    "        while (answer not in {'y','n'}) :\n",
    "            print(\"Trying to drop \" + str(int(droppedSizePercentage)) + \"% (\" + str(dfSize - droppedSize) +\") values.\")\n",
    "            answer = input(\"Are you sure ? [Y/N]\").lower()\n",
    "        if (answer == 'y') :\n",
    "            exec(dfName + \"= droppedDf\")\n",
    "\"\"\""
   ]
  },
  {
   "cell_type": "code",
   "execution_count": 6,
   "metadata": {},
   "outputs": [
    {
     "name": "stdout",
     "output_type": "stream",
     "text": [
      "0.0% (0) values removed.\n"
     ]
    }
   ],
   "source": [
    "# Variables / Variables\n",
    "criticalDropSizePercentage = 2 # Minimal removed size triggering a warning\n",
    "initialSize = len(df)\n",
    "# Funtions / Fonctions\n",
    "    # Delete every row that contains NaN (Not a Number) / Enleve toutes les lignes contenant NaN (Not a Number)\n",
    "tempDf = df.dropna() \n",
    "droppedSize = initialSize - len(tempDf)\n",
    "droppedSizePercentage = 100 * droppedSize / initialSize\n",
    "if (droppedSizePercentage < criticalDropSizePercentage) :\n",
    "    df = tempDf\n",
    "    print(str(droppedSizePercentage) + \"% (\" + str(droppedSize) + \") values removed.\")\n",
    "else : \n",
    "    answer = '0'\n",
    "    while (answer not in {'y','n'}) :\n",
    "        print(\"Trying to drop \" + str(int(droppedSizePercentage)) + \"% (\" + str(droppedSize) +\") values.\")\n",
    "        answer = input(\"Are you sure ? [Y/N]\").lower()\n",
    "    if (answer == 'y') :\n",
    "        df = tempDf \n",
    "        print(str(droppedSizePercentage) + \"% (\" + str(droppedSize) + \") values removed.\")"
   ]
  },
  {
   "cell_type": "markdown",
   "metadata": {},
   "source": [
    "## 3.1.0 Remove empty string"
   ]
  },
  {
   "cell_type": "code",
   "execution_count": 12,
   "metadata": {},
   "outputs": [
    {
     "name": "stdout",
     "output_type": "stream",
     "text": [
      "0.0% (0) values removed.\n"
     ]
    }
   ],
   "source": [
    "# Variables / Variables\n",
    "initialSize = len(df)\n",
    "column = \"latitude\" # Column name / Nom de la colonne\n",
    "    # Delete every row where value is a void string / Enleve toutes les lignes ou la valeur est une chaine de caracteres vide\n",
    "tempDf = df[df[column] != \"\"] \n",
    "droppedSize = initialSize - len(tempDf)\n",
    "droppedSizePercentage = 100 * droppedSize / initialSize\n",
    "if (droppedSizePercentage < criticalDropSizePercentage) :\n",
    "    df = tempDf\n",
    "    print(str(droppedSizePercentage) + \"% (\" + str(droppedSize) + \") values removed.\")\n",
    "else : \n",
    "    answer = '0'\n",
    "    while (answer not in {'y','n'}) :\n",
    "        print(\"Trying to drop \" + str(int(droppedSizePercentage)) + \"% (\" + str(droppedSize) +\") values.\")\n",
    "        answer = input(\"Are you sure ? [Y/N]\").lower()\n",
    "    if (answer == 'y') :\n",
    "        df = tempDf \n",
    "        print(str(droppedSizePercentage) + \"% (\" + str(droppedSize) + \") values removed.\")\n",
    "\n",
    "tempDf = 0"
   ]
  },
  {
   "cell_type": "markdown",
   "metadata": {},
   "source": [
    "### 3.2 Equal to ... / Egal à ..."
   ]
  },
  {
   "cell_type": "code",
   "execution_count": 148,
   "metadata": {},
   "outputs": [
    {
     "name": "stdout",
     "output_type": "stream",
     "text": [
      "Trying to drop 48% (746479) values.\n"
     ]
    },
    {
     "name": "stdin",
     "output_type": "stream",
     "text": [
      "Are you sure ? [Y/N] y\n"
     ]
    },
    {
     "name": "stdout",
     "output_type": "stream",
     "text": [
      "48.851835054811794% (746479) values removed.\n"
     ]
    }
   ],
   "source": [
    "# Variables / Variables\n",
    "column = \"noise\" # Column name / Nom de la colonne\n",
    "initialSize = len(df)\n",
    "value = 0 # Compared value / Valeur comparee\n",
    "# Funtions / Fonctions\n",
    "    # Delete every row that contains NaN (Not a Number) / Enleve toutes les lignes contenant NaN (Not a Number)\n",
    "tempDf = df[df[column] != value] \n",
    "droppedSize = initialSize - len(tempDf)\n",
    "droppedSizePercentage = 100 * droppedSize / initialSize\n",
    "if (droppedSizePercentage < criticalDropSizePercentage) :\n",
    "    df = tempDf\n",
    "    print(str(droppedSizePercentage) + \"% (\" + str(droppedSize) + \") values removed.\")\n",
    "else : \n",
    "    answer = '0'\n",
    "    while (answer not in {'y','n'}) :\n",
    "        print(\"Trying to drop \" + str(int(droppedSizePercentage)) + \"% (\" + str(droppedSize) +\") values.\")\n",
    "        answer = input(\"Are you sure ? [Y/N]\").lower()\n",
    "    if (answer == 'y') :\n",
    "        df = tempDf \n",
    "        print(str(droppedSizePercentage) + \"% (\" + str(droppedSize) + \") values removed.\")\n",
    "        \n",
    "tempDf = 0"
   ]
  },
  {
   "cell_type": "markdown",
   "metadata": {},
   "source": [
    "### 3.3 Different than ... / Different de ..."
   ]
  },
  {
   "cell_type": "code",
   "execution_count": null,
   "metadata": {},
   "outputs": [],
   "source": [
    "# Variables / Variables\n",
    "column = \"avg_rating\" # Column name / Nom de la colonne\n",
    "initialSize = len(df)\n",
    "value = 0 # Compared value / Valeur comparee\n",
    "# Funtions / Fonctions\n",
    "    # Delete every row that contains NaN (Not a Number) / Enleve toutes les lignes contenant NaN (Not a Number)\n",
    "tempDf = df[df[column] == value] \n",
    "droppedSize = initialSize - len(tempDf)\n",
    "droppedSizePercentage = 100 * droppedSize / initialSize\n",
    "if (droppedSizePercentage < criticalDropSizePercentage) :\n",
    "    df = tempDf\n",
    "    print(str(droppedSizePercentage) + \"% (\" + str(droppedSize) + \") values removed.\")\n",
    "else : \n",
    "    answer = '0'\n",
    "    while (answer not in {'y','n'}) :\n",
    "        print(\"Trying to drop \" + str(int(droppedSizePercentage)) + \"% (\" + str(droppedSize) +\") values.\")\n",
    "        answer = input(\"Are you sure ? [Y/N]\").lower()\n",
    "    if (answer == 'y') :\n",
    "        df = tempDf \n",
    "        print(str(droppedSizePercentage) + \"% (\" + str(droppedSize) + \") values removed.\")\n",
    "        \n",
    "tempDf = 0"
   ]
  },
  {
   "cell_type": "markdown",
   "metadata": {},
   "source": [
    "### 3.4 Between ... and ... / Entre ... et ..."
   ]
  },
  {
   "cell_type": "code",
   "execution_count": null,
   "metadata": {},
   "outputs": [],
   "source": [
    "# Variables / Variables\n",
    "column = \"avg_rating\" # Column name / Nom de la colonne\n",
    "minValue = 0 # Lower border / Borne inferieure\n",
    "maxValue = 0 # Higher border / Borne superieure\n",
    "initialSize = len(df) \n",
    "# Funtions / Fonctions\n",
    "    # Delete every row that contains NaN (Not a Number) / Enleve toutes les lignes contenant NaN (Not a Number)\n",
    "tempDf = df[(df[column] < minValue) | (df[column] > maxValue)] \n",
    "droppedSize = initialSize - len(tempDf)\n",
    "droppedSizePercentage = 100 * droppedSize / initialSize\n",
    "if (droppedSizePercentage < criticalDropSizePercentage) :\n",
    "    df = tempDf\n",
    "    print(str(droppedSizePercentage) + \"% (\" + str(droppedSize) + \") values removed.\")\n",
    "else : \n",
    "    answer = '0'\n",
    "    while (answer not in {'y','n'}) :\n",
    "        print(\"Trying to drop \" + str(int(droppedSizePercentage)) + \"% (\" + str(droppedSize) +\") values.\")\n",
    "        answer = input(\"Are you sure ? [Y/N]\").lower()\n",
    "    if (answer == 'y') :\n",
    "        df = tempDf \n",
    "        print(str(droppedSizePercentage) + \"% (\" + str(droppedSize) + \") values removed.\")\n",
    "        \n",
    "tempDf = 0"
   ]
  },
  {
   "cell_type": "markdown",
   "metadata": {},
   "source": [
    "### 3.5 Not between ... and ... / A l'exterieur de ... et ..."
   ]
  },
  {
   "cell_type": "code",
   "execution_count": 8,
   "metadata": {},
   "outputs": [
    {
     "name": "stdout",
     "output_type": "stream",
     "text": [
      "0.9262713959113571% (13828) values removed.\n"
     ]
    }
   ],
   "source": [
    "# Variables / Variables\n",
    "column = \"lat\" # Column name / Nom de la colonne\n",
    "minValue = shanghaiMinLatitude # Lower border / Borne inferieure\n",
    "maxValue = shanghaiMaxLatitude # Higher border / Borne superieure\n",
    "initialSize = len(df) \n",
    "# Funtions / Fonctions\n",
    "    # Delete every row that contains NaN (Not a Number) / Enleve toutes les lignes contenant NaN (Not a Number)\n",
    "tempDf = df[(df[column].astype(float) >= minValue) & (df[column].astype(float) <= maxValue)] \n",
    "droppedSize = initialSize - len(tempDf)\n",
    "droppedSizePercentage = 100 * droppedSize / initialSize\n",
    "if (droppedSizePercentage < criticalDropSizePercentage) :\n",
    "    df = tempDf\n",
    "    print(str(droppedSizePercentage) + \"% (\" + str(droppedSize) + \") values removed.\")\n",
    "else : \n",
    "    answer = '0'\n",
    "    while (answer not in {'y','n'}) :\n",
    "        print(\"Trying to drop \" + str(int(droppedSizePercentage)) + \"% (\" + str(droppedSize) +\") values.\")\n",
    "        answer = input(\"Are you sure ? [Y/N]\").lower()\n",
    "    if (answer == 'y') :\n",
    "        df = tempDf \n",
    "        print(str(droppedSizePercentage) + \"% (\" + str(droppedSize) + \") values removed.\")\n",
    "        \n",
    "tempDf = 0"
   ]
  },
  {
   "cell_type": "markdown",
   "metadata": {},
   "source": [
    "### 3.6 Greater than ... / Superieur a ..."
   ]
  },
  {
   "cell_type": "code",
   "execution_count": 123,
   "metadata": {},
   "outputs": [],
   "source": [
    "# Variables / Variables\n",
    "column = \"distance\" # Column name / Nom de la colonne\n",
    "initialSize = len(df)\n",
    "value = 8000 # Compared value / Valeur comparee\n",
    "# Funtions / Fonctions\n",
    "    # Delete every row that contains NaN (Not a Number) / Enleve toutes les lignes contenant NaN (Not a Number)\n",
    "tempDf = df[df[column] <= value] \n",
    "droppedSize = initialSize - len(tempDf)\n",
    "droppedSizePercentage = 100 * droppedSize / initialSize\n",
    "if (droppedSizePercentage < criticalDropSizePercentage) :\n",
    "    df = tempDf\n",
    "    print(str(droppedSizePercentage) + \"% (\" + str(droppedSize) + \") values removed.\")\n",
    "else : \n",
    "    answer = '0'\n",
    "    while (answer not in {'y','n'}) :\n",
    "        print(\"Trying to drop \" + str(int(droppedSizePercentage)) + \"% (\" + str(droppedSize) +\") values.\")\n",
    "        answer = input(\"Are you sure ? [Y/N]\").lower()\n",
    "    if (answer == 'y') :\n",
    "        df = tempDf \n",
    "        print(str(droppedSizePercentage) + \"% (\" + str(droppedSize) + \") values removed.\")\n",
    "        \n",
    "tempDf = 0"
   ]
  },
  {
   "cell_type": "markdown",
   "metadata": {},
   "source": [
    "### 3.7 Lower than ... / Inferieur a ..."
   ]
  },
  {
   "cell_type": "code",
   "execution_count": null,
   "metadata": {},
   "outputs": [],
   "source": [
    "# Variables / Variables\n",
    "column = \"avg_rating\" # Column name / Nom de la colonne\n",
    "initialSize = len(df)\n",
    "value = 0 # Compared value / Valeur comparee\n",
    "# Funtions / Fonctions\n",
    "    # Delete every row that contains NaN (Not a Number) / Enleve toutes les lignes contenant NaN (Not a Number)\n",
    "tempDf = df[df[column] <= value] \n",
    "droppedSize = initialSize - len(tempDf)\n",
    "droppedSizePercentage = 100 * droppedSize / initialSize\n",
    "if (droppedSizePercentage < criticalDropSizePercentage) :\n",
    "    df = tempDf\n",
    "    initialSize = len(df)\n",
    "else : \n",
    "    answer = '0'\n",
    "    while (answer not in {'y','n'}) :\n",
    "        print(\"Trying to drop \" + str(int(droppedSizePercentage)) + \"% (\" + str(droppedSize) +\") values.\")\n",
    "        answer = input(\"Are you sure ? [Y/N]\").lower()\n",
    "    if (answer == 'y') :\n",
    "        df = tempDf \n",
    "        initialSize = len(df)"
   ]
  },
  {
   "cell_type": "markdown",
   "metadata": {},
   "source": [
    "## 4. Test on data / Test sur les donnees"
   ]
  },
  {
   "cell_type": "markdown",
   "metadata": {},
   "source": [
    "### 4.1 Basic statistics / Statistiques basiques"
   ]
  },
  {
   "cell_type": "code",
   "execution_count": 36,
   "metadata": {},
   "outputs": [
    {
     "name": "stdout",
     "output_type": "stream",
     "text": [
      "              clean smell noise   town district longitude latitude\n",
      "count     458   458   458   458    458      458       458      458\n",
      "unique    413     4     3     2    130       17       440      440\n",
      "top     新桥居委会     3   0.0   0.0  徐家汇街道     浦东新区                   \n",
      "freq       10   227   375   365     10       83         6        6\n"
     ]
    }
   ],
   "source": [
    "# Variables / Variables\n",
    "column = \"distance\" # Column Name / Nom de la colonne\n",
    "# Functions / Fonctions\n",
    "print(df.describe())\n"
   ]
  },
  {
   "cell_type": "markdown",
   "metadata": {},
   "source": [
    "### 4.2 Equal to ... / Egal a ..."
   ]
  },
  {
   "cell_type": "code",
   "execution_count": 48,
   "metadata": {},
   "outputs": [
    {
     "name": "stdout",
     "output_type": "stream",
     "text": [
      "Amount of values / Nombre de valeurs = 3894858 / 6651720 (~ 58%)\n"
     ]
    },
    {
     "data": {
      "text/html": [
       "<div>\n",
       "<style scoped>\n",
       "    .dataframe tbody tr th:only-of-type {\n",
       "        vertical-align: middle;\n",
       "    }\n",
       "\n",
       "    .dataframe tbody tr th {\n",
       "        vertical-align: top;\n",
       "    }\n",
       "\n",
       "    .dataframe thead th {\n",
       "        text-align: right;\n",
       "    }\n",
       "</style>\n",
       "<table border=\"1\" class=\"dataframe\">\n",
       "  <thead>\n",
       "    <tr style=\"text-align: right;\">\n",
       "      <th></th>\n",
       "      <th>name</th>\n",
       "      <th>branch_name</th>\n",
       "      <th>address</th>\n",
       "      <th>telephone</th>\n",
       "      <th>city</th>\n",
       "      <th>latitude</th>\n",
       "      <th>longitude</th>\n",
       "      <th>avg_rating</th>\n",
       "      <th>product_grade</th>\n",
       "      <th>decoration_grade</th>\n",
       "      <th>service_grade</th>\n",
       "      <th>product_score</th>\n",
       "      <th>decoration_score</th>\n",
       "      <th>service_score</th>\n",
       "      <th>review_count</th>\n",
       "      <th>avg_price</th>\n",
       "      <th>photo_count</th>\n",
       "      <th>category</th>\n",
       "    </tr>\n",
       "    <tr>\n",
       "      <th>business_id</th>\n",
       "      <th></th>\n",
       "      <th></th>\n",
       "      <th></th>\n",
       "      <th></th>\n",
       "      <th></th>\n",
       "      <th></th>\n",
       "      <th></th>\n",
       "      <th></th>\n",
       "      <th></th>\n",
       "      <th></th>\n",
       "      <th></th>\n",
       "      <th></th>\n",
       "      <th></th>\n",
       "      <th></th>\n",
       "      <th></th>\n",
       "      <th></th>\n",
       "      <th></th>\n",
       "      <th></th>\n",
       "    </tr>\n",
       "  </thead>\n",
       "  <tbody>\n",
       "    <tr>\n",
       "      <th>503952</th>\n",
       "      <td>ID_API_PROBLEM</td>\n",
       "      <td>None</td>\n",
       "      <td>None</td>\n",
       "      <td>None</td>\n",
       "      <td>None</td>\n",
       "      <td>NaN</td>\n",
       "      <td>NaN</td>\n",
       "      <td>0.0</td>\n",
       "      <td>0.0</td>\n",
       "      <td>0.0</td>\n",
       "      <td>0.0</td>\n",
       "      <td>0.0</td>\n",
       "      <td>0.0</td>\n",
       "      <td>0.0</td>\n",
       "      <td>1092</td>\n",
       "      <td>23.0</td>\n",
       "      <td>NaN</td>\n",
       "      <td>NaN</td>\n",
       "    </tr>\n",
       "    <tr>\n",
       "      <th>506697</th>\n",
       "      <td>紫阳花俱乐部(这是一条测试商户数据，仅用于测试开发，开发完成后请申请正式数据...)</td>\n",
       "      <td></td>\n",
       "      <td>静安区华山路728号</td>\n",
       "      <td>021-62107945</td>\n",
       "      <td>上海</td>\n",
       "      <td>31.215690</td>\n",
       "      <td>121.43956</td>\n",
       "      <td>0.0</td>\n",
       "      <td>0.0</td>\n",
       "      <td>0.0</td>\n",
       "      <td>0.0</td>\n",
       "      <td>0.0</td>\n",
       "      <td>0.0</td>\n",
       "      <td>0.0</td>\n",
       "      <td>4</td>\n",
       "      <td>0.0</td>\n",
       "      <td>1.0</td>\n",
       "      <td>酒吧</td>\n",
       "    </tr>\n",
       "    <tr>\n",
       "      <th>506926</th>\n",
       "      <td>QQ食尚快餐(这是一条测试商户数据，仅用于测试开发，开发完成后请申请正式数据...)</td>\n",
       "      <td></td>\n",
       "      <td>徐汇区老沪闵路715号</td>\n",
       "      <td>021-64241354</td>\n",
       "      <td>上海</td>\n",
       "      <td>31.142511</td>\n",
       "      <td>121.42903</td>\n",
       "      <td>0.0</td>\n",
       "      <td>0.0</td>\n",
       "      <td>0.0</td>\n",
       "      <td>0.0</td>\n",
       "      <td>0.0</td>\n",
       "      <td>0.0</td>\n",
       "      <td>0.0</td>\n",
       "      <td>8</td>\n",
       "      <td>0.0</td>\n",
       "      <td>1.0</td>\n",
       "      <td>快餐简餐</td>\n",
       "    </tr>\n",
       "    <tr>\n",
       "      <th>561512</th>\n",
       "      <td>万丰大酒店(这是一条测试商户数据，仅用于测试开发，开发完成后请申请正式数据...)</td>\n",
       "      <td></td>\n",
       "      <td>浦东新区上南路3719号</td>\n",
       "      <td>021-68527177</td>\n",
       "      <td>上海</td>\n",
       "      <td>31.152372</td>\n",
       "      <td>121.50378</td>\n",
       "      <td>0.0</td>\n",
       "      <td>0.0</td>\n",
       "      <td>0.0</td>\n",
       "      <td>0.0</td>\n",
       "      <td>0.0</td>\n",
       "      <td>0.0</td>\n",
       "      <td>0.0</td>\n",
       "      <td>81</td>\n",
       "      <td>71.0</td>\n",
       "      <td>16.0</td>\n",
       "      <td>本帮菜</td>\n",
       "    </tr>\n",
       "    <tr>\n",
       "      <th>563844</th>\n",
       "      <td>ID_API_PROBLEM</td>\n",
       "      <td>None</td>\n",
       "      <td>None</td>\n",
       "      <td>None</td>\n",
       "      <td>None</td>\n",
       "      <td>NaN</td>\n",
       "      <td>NaN</td>\n",
       "      <td>0.0</td>\n",
       "      <td>0.0</td>\n",
       "      <td>0.0</td>\n",
       "      <td>0.0</td>\n",
       "      <td>0.0</td>\n",
       "      <td>0.0</td>\n",
       "      <td>0.0</td>\n",
       "      <td>2192</td>\n",
       "      <td>0.0</td>\n",
       "      <td>NaN</td>\n",
       "      <td>NaN</td>\n",
       "    </tr>\n",
       "  </tbody>\n",
       "</table>\n",
       "</div>"
      ],
      "text/plain": [
       "                                                   name branch_name  \\\n",
       "business_id                                                           \n",
       "503952                                   ID_API_PROBLEM        None   \n",
       "506697       紫阳花俱乐部(这是一条测试商户数据，仅用于测试开发，开发完成后请申请正式数据...)               \n",
       "506926       QQ食尚快餐(这是一条测试商户数据，仅用于测试开发，开发完成后请申请正式数据...)               \n",
       "561512        万丰大酒店(这是一条测试商户数据，仅用于测试开发，开发完成后请申请正式数据...)               \n",
       "563844                                   ID_API_PROBLEM        None   \n",
       "\n",
       "                  address     telephone  city   latitude  longitude  \\\n",
       "business_id                                                           \n",
       "503952               None          None  None        NaN        NaN   \n",
       "506697         静安区华山路728号  021-62107945    上海  31.215690  121.43956   \n",
       "506926        徐汇区老沪闵路715号  021-64241354    上海  31.142511  121.42903   \n",
       "561512       浦东新区上南路3719号  021-68527177    上海  31.152372  121.50378   \n",
       "563844               None          None  None        NaN        NaN   \n",
       "\n",
       "             avg_rating  product_grade  decoration_grade  service_grade  \\\n",
       "business_id                                                               \n",
       "503952              0.0            0.0               0.0            0.0   \n",
       "506697              0.0            0.0               0.0            0.0   \n",
       "506926              0.0            0.0               0.0            0.0   \n",
       "561512              0.0            0.0               0.0            0.0   \n",
       "563844              0.0            0.0               0.0            0.0   \n",
       "\n",
       "             product_score  decoration_score  service_score  review_count  \\\n",
       "business_id                                                                 \n",
       "503952                 0.0               0.0            0.0          1092   \n",
       "506697                 0.0               0.0            0.0             4   \n",
       "506926                 0.0               0.0            0.0             8   \n",
       "561512                 0.0               0.0            0.0            81   \n",
       "563844                 0.0               0.0            0.0          2192   \n",
       "\n",
       "             avg_price  photo_count category  \n",
       "business_id                                   \n",
       "503952            23.0          NaN      NaN  \n",
       "506697             0.0          1.0       酒吧  \n",
       "506926             0.0          1.0     快餐简餐  \n",
       "561512            71.0         16.0      本帮菜  \n",
       "563844             0.0          NaN      NaN  "
      ]
     },
     "execution_count": 48,
     "metadata": {},
     "output_type": "execute_result"
    }
   ],
   "source": [
    "# Variables / Variables\n",
    "column = \"avg_rating\" # Column name / Nom de la colonne\n",
    "value = 0 # Compared value / Valeur comparee\n",
    "# Functions / Fonctions\n",
    "selectedSize = len(df[df[column] == value]) # Selection size / Taille de la selection\n",
    "totalSize = len(df) # Total size / Taille totale\n",
    "print(\"Amount of values / Nombre de valeurs = \" + str(selectedSize) + \" / \" + str(totalSize) + \" (~ \" + str(int(100 * selectedSize/totalSize)) + \"%)\")\n",
    "df[df[column] == value].head() # Print results / Affichage les resultats"
   ]
  },
  {
   "cell_type": "markdown",
   "metadata": {},
   "source": [
    "### 4.3 Different than ... / Different de ..."
   ]
  },
  {
   "cell_type": "code",
   "execution_count": 5,
   "metadata": {
    "collapsed": true,
    "jupyter": {
     "outputs_hidden": true
    }
   },
   "outputs": [
    {
     "data": {
      "text/html": [
       "<div>\n",
       "<style scoped>\n",
       "    .dataframe tbody tr th:only-of-type {\n",
       "        vertical-align: middle;\n",
       "    }\n",
       "\n",
       "    .dataframe tbody tr th {\n",
       "        vertical-align: top;\n",
       "    }\n",
       "\n",
       "    .dataframe thead th {\n",
       "        text-align: right;\n",
       "    }\n",
       "</style>\n",
       "<table border=\"1\" class=\"dataframe\">\n",
       "  <thead>\n",
       "    <tr style=\"text-align: right;\">\n",
       "      <th></th>\n",
       "      <th>name</th>\n",
       "      <th>branch_name</th>\n",
       "      <th>address</th>\n",
       "      <th>telephone</th>\n",
       "      <th>city</th>\n",
       "      <th>latitude</th>\n",
       "      <th>longitude</th>\n",
       "      <th>avg_rating</th>\n",
       "      <th>product_grade</th>\n",
       "      <th>decoration_grade</th>\n",
       "      <th>service_grade</th>\n",
       "      <th>product_score</th>\n",
       "      <th>decoration_score</th>\n",
       "      <th>service_score</th>\n",
       "      <th>review_count</th>\n",
       "      <th>avg_price</th>\n",
       "      <th>photo_count</th>\n",
       "      <th>category</th>\n",
       "    </tr>\n",
       "    <tr>\n",
       "      <th>business_id</th>\n",
       "      <th></th>\n",
       "      <th></th>\n",
       "      <th></th>\n",
       "      <th></th>\n",
       "      <th></th>\n",
       "      <th></th>\n",
       "      <th></th>\n",
       "      <th></th>\n",
       "      <th></th>\n",
       "      <th></th>\n",
       "      <th></th>\n",
       "      <th></th>\n",
       "      <th></th>\n",
       "      <th></th>\n",
       "      <th></th>\n",
       "      <th></th>\n",
       "      <th></th>\n",
       "      <th></th>\n",
       "    </tr>\n",
       "  </thead>\n",
       "  <tbody>\n",
       "    <tr>\n",
       "      <th>500019</th>\n",
       "      <td>沃歌斯(这是一条测试商户数据，仅用于测试开发，开发完成后请申请正式数据...)</td>\n",
       "      <td>中信泰富店</td>\n",
       "      <td>静安区南京西路1168号中信泰富B1楼</td>\n",
       "      <td>021-52925228</td>\n",
       "      <td>上海</td>\n",
       "      <td>31.228676</td>\n",
       "      <td>121.455765</td>\n",
       "      <td>40.0</td>\n",
       "      <td>1.0</td>\n",
       "      <td>1.0</td>\n",
       "      <td>1.0</td>\n",
       "      <td>7.9</td>\n",
       "      <td>7.8</td>\n",
       "      <td>7.7</td>\n",
       "      <td>855</td>\n",
       "      <td>70.0</td>\n",
       "      <td>414.0</td>\n",
       "      <td>西式简餐</td>\n",
       "    </tr>\n",
       "    <tr>\n",
       "      <th>500057</th>\n",
       "      <td>宝莱纳餐厅(这是一条测试商户数据，仅用于测试开发，开发完成后请申请正式数据...)</td>\n",
       "      <td>新天地店</td>\n",
       "      <td>卢湾区太仓路181弄新天地北里19-20号</td>\n",
       "      <td>021-63203935</td>\n",
       "      <td>上海</td>\n",
       "      <td>31.220670</td>\n",
       "      <td>121.474570</td>\n",
       "      <td>40.0</td>\n",
       "      <td>1.0</td>\n",
       "      <td>1.0</td>\n",
       "      <td>1.0</td>\n",
       "      <td>7.7</td>\n",
       "      <td>8.1</td>\n",
       "      <td>7.3</td>\n",
       "      <td>3621</td>\n",
       "      <td>165.0</td>\n",
       "      <td>2545.0</td>\n",
       "      <td>酒吧</td>\n",
       "    </tr>\n",
       "    <tr>\n",
       "      <th>500058</th>\n",
       "      <td>宝莱纳餐厅(这是一条测试商户数据，仅用于测试开发，开发完成后请申请正式数据...)</td>\n",
       "      <td>汾阳店</td>\n",
       "      <td>徐汇区汾阳路150号</td>\n",
       "      <td>021-64745700</td>\n",
       "      <td>上海</td>\n",
       "      <td>31.209503</td>\n",
       "      <td>121.452490</td>\n",
       "      <td>40.0</td>\n",
       "      <td>1.0</td>\n",
       "      <td>1.0</td>\n",
       "      <td>1.0</td>\n",
       "      <td>7.9</td>\n",
       "      <td>8.4</td>\n",
       "      <td>7.8</td>\n",
       "      <td>3245</td>\n",
       "      <td>170.0</td>\n",
       "      <td>2885.0</td>\n",
       "      <td>酒吧</td>\n",
       "    </tr>\n",
       "    <tr>\n",
       "      <th>500067</th>\n",
       "      <td>避风塘(这是一条测试商户数据，仅用于测试开发，开发完成后请申请正式数据...)</td>\n",
       "      <td>古北店</td>\n",
       "      <td>长宁区水城南路17号万科广场1楼</td>\n",
       "      <td>021-62086388</td>\n",
       "      <td>上海</td>\n",
       "      <td>31.193920</td>\n",
       "      <td>121.393720</td>\n",
       "      <td>35.0</td>\n",
       "      <td>1.0</td>\n",
       "      <td>1.0</td>\n",
       "      <td>1.0</td>\n",
       "      <td>7.6</td>\n",
       "      <td>7.3</td>\n",
       "      <td>6.6</td>\n",
       "      <td>926</td>\n",
       "      <td>81.0</td>\n",
       "      <td>435.0</td>\n",
       "      <td>茶餐厅</td>\n",
       "    </tr>\n",
       "    <tr>\n",
       "      <th>500068</th>\n",
       "      <td>避风塘(这是一条测试商户数据，仅用于测试开发，开发完成后请申请正式数据...)</td>\n",
       "      <td>八佰伴店</td>\n",
       "      <td>浦东新区张杨路501号第一八佰伴9楼</td>\n",
       "      <td>021-58365928</td>\n",
       "      <td>上海</td>\n",
       "      <td>31.228100</td>\n",
       "      <td>121.517460</td>\n",
       "      <td>30.0</td>\n",
       "      <td>1.0</td>\n",
       "      <td>1.0</td>\n",
       "      <td>1.0</td>\n",
       "      <td>7.2</td>\n",
       "      <td>6.8</td>\n",
       "      <td>6.5</td>\n",
       "      <td>4159</td>\n",
       "      <td>78.0</td>\n",
       "      <td>1460.0</td>\n",
       "      <td>茶餐厅</td>\n",
       "    </tr>\n",
       "  </tbody>\n",
       "</table>\n",
       "</div>"
      ],
      "text/plain": [
       "                                                  name branch_name  \\\n",
       "business_id                                                          \n",
       "500019         沃歌斯(这是一条测试商户数据，仅用于测试开发，开发完成后请申请正式数据...)       中信泰富店   \n",
       "500057       宝莱纳餐厅(这是一条测试商户数据，仅用于测试开发，开发完成后请申请正式数据...)        新天地店   \n",
       "500058       宝莱纳餐厅(这是一条测试商户数据，仅用于测试开发，开发完成后请申请正式数据...)         汾阳店   \n",
       "500067         避风塘(这是一条测试商户数据，仅用于测试开发，开发完成后请申请正式数据...)         古北店   \n",
       "500068         避风塘(这是一条测试商户数据，仅用于测试开发，开发完成后请申请正式数据...)        八佰伴店   \n",
       "\n",
       "                           address     telephone city   latitude   longitude  \\\n",
       "business_id                                                                    \n",
       "500019         静安区南京西路1168号中信泰富B1楼  021-52925228   上海  31.228676  121.455765   \n",
       "500057       卢湾区太仓路181弄新天地北里19-20号  021-63203935   上海  31.220670  121.474570   \n",
       "500058                  徐汇区汾阳路150号  021-64745700   上海  31.209503  121.452490   \n",
       "500067            长宁区水城南路17号万科广场1楼  021-62086388   上海  31.193920  121.393720   \n",
       "500068          浦东新区张杨路501号第一八佰伴9楼  021-58365928   上海  31.228100  121.517460   \n",
       "\n",
       "             avg_rating  product_grade  decoration_grade  service_grade  \\\n",
       "business_id                                                               \n",
       "500019             40.0            1.0               1.0            1.0   \n",
       "500057             40.0            1.0               1.0            1.0   \n",
       "500058             40.0            1.0               1.0            1.0   \n",
       "500067             35.0            1.0               1.0            1.0   \n",
       "500068             30.0            1.0               1.0            1.0   \n",
       "\n",
       "             product_score  decoration_score  service_score  review_count  \\\n",
       "business_id                                                                 \n",
       "500019                 7.9               7.8            7.7           855   \n",
       "500057                 7.7               8.1            7.3          3621   \n",
       "500058                 7.9               8.4            7.8          3245   \n",
       "500067                 7.6               7.3            6.6           926   \n",
       "500068                 7.2               6.8            6.5          4159   \n",
       "\n",
       "             avg_price  photo_count category  \n",
       "business_id                                   \n",
       "500019            70.0        414.0     西式简餐  \n",
       "500057           165.0       2545.0       酒吧  \n",
       "500058           170.0       2885.0       酒吧  \n",
       "500067            81.0        435.0      茶餐厅  \n",
       "500068            78.0       1460.0      茶餐厅  "
      ]
     },
     "execution_count": 5,
     "metadata": {},
     "output_type": "execute_result"
    }
   ],
   "source": [
    "# Variables / Variables\n",
    "column = \"avg_rating\" # Column name / Nom de la colonne\n",
    "value = 0 # Compared value / Valeur comparee\n",
    "# Functions / Fonctions\n",
    "selectedSize = len(df[df[column] != value]) # Selection size / Taille de la selection\n",
    "totalSize = len(df) # Total size / Taille totale\n",
    "print(\"Amount of values / Nombre de valeurs = \" + str(selectedSize) + \" / \" + str(totalSize) + \" (~ \" + str(int(100 * selectedSize/totalSize)) + \"%)\")\n",
    "df[df[column] != value].head() # Print results / Affichage les resultats"
   ]
  },
  {
   "cell_type": "markdown",
   "metadata": {},
   "source": [
    "### 4.4 At least ... / Au moins ... "
   ]
  },
  {
   "cell_type": "code",
   "execution_count": 109,
   "metadata": {},
   "outputs": [
    {
     "name": "stdout",
     "output_type": "stream",
     "text": [
      "Amount of values / Nombre de valeurs = 447 / 255888 (~ 0%)\n"
     ]
    },
    {
     "data": {
      "text/html": [
       "<div>\n",
       "<style scoped>\n",
       "    .dataframe tbody tr th:only-of-type {\n",
       "        vertical-align: middle;\n",
       "    }\n",
       "\n",
       "    .dataframe tbody tr th {\n",
       "        vertical-align: top;\n",
       "    }\n",
       "\n",
       "    .dataframe thead th {\n",
       "        text-align: right;\n",
       "    }\n",
       "</style>\n",
       "<table border=\"1\" class=\"dataframe\">\n",
       "  <thead>\n",
       "    <tr style=\"text-align: right;\">\n",
       "      <th></th>\n",
       "      <th>quietness</th>\n",
       "      <th>distance</th>\n",
       "      <th>geometry</th>\n",
       "    </tr>\n",
       "  </thead>\n",
       "  <tbody>\n",
       "    <tr>\n",
       "      <th>115</th>\n",
       "      <td>-1.25325</td>\n",
       "      <td>15016.956055</td>\n",
       "      <td>LINESTRING (120.41422 30.88314, 120.41101 30.8...</td>\n",
       "    </tr>\n",
       "    <tr>\n",
       "      <th>487</th>\n",
       "      <td>-10.00000</td>\n",
       "      <td>15549.641602</td>\n",
       "      <td>LINESTRING (121.69601 31.63084, 121.68967 31.6...</td>\n",
       "    </tr>\n",
       "    <tr>\n",
       "      <th>488</th>\n",
       "      <td>-10.00000</td>\n",
       "      <td>17066.800781</td>\n",
       "      <td>LINESTRING (121.82422 31.54598, 121.82825 31.5...</td>\n",
       "    </tr>\n",
       "    <tr>\n",
       "      <th>1600</th>\n",
       "      <td>-10.00000</td>\n",
       "      <td>23631.394531</td>\n",
       "      <td>LINESTRING (121.69977 31.78324, 121.70283 31.7...</td>\n",
       "    </tr>\n",
       "    <tr>\n",
       "      <th>1904</th>\n",
       "      <td>-10.00000</td>\n",
       "      <td>16257.675781</td>\n",
       "      <td>LINESTRING (120.99470 30.63359, 120.98418 30.6...</td>\n",
       "    </tr>\n",
       "  </tbody>\n",
       "</table>\n",
       "</div>"
      ],
      "text/plain": [
       "      quietness      distance  \\\n",
       "115    -1.25325  15016.956055   \n",
       "487   -10.00000  15549.641602   \n",
       "488   -10.00000  17066.800781   \n",
       "1600  -10.00000  23631.394531   \n",
       "1904  -10.00000  16257.675781   \n",
       "\n",
       "                                               geometry  \n",
       "115   LINESTRING (120.41422 30.88314, 120.41101 30.8...  \n",
       "487   LINESTRING (121.69601 31.63084, 121.68967 31.6...  \n",
       "488   LINESTRING (121.82422 31.54598, 121.82825 31.5...  \n",
       "1600  LINESTRING (121.69977 31.78324, 121.70283 31.7...  \n",
       "1904  LINESTRING (120.99470 30.63359, 120.98418 30.6...  "
      ]
     },
     "execution_count": 109,
     "metadata": {},
     "output_type": "execute_result"
    }
   ],
   "source": [
    "# Variables / Variables\n",
    "column = \"distance\" # Column name / Nom de la colonne\n",
    "value = 15000 # Compared value / Valeur comparee\n",
    "# Functions / Fonctions\n",
    "selectedSize = len(df[df[column] >= value]) # Selection size / Taille de la selection\n",
    "totalSize = len(df) # Total size / Taille totale\n",
    "print(\"Amount of values / Nombre de valeurs = \" + str(selectedSize) + \" / \" + str(totalSize) + \" (~ \" + str(int(100 * selectedSize/totalSize)) + \"%)\")\n",
    "df[df[column] >= value].head() # Print results / Affichage les resultats"
   ]
  },
  {
   "cell_type": "markdown",
   "metadata": {},
   "source": [
    "### 4.5 Smaller than ... / Plus petit que ... "
   ]
  },
  {
   "cell_type": "code",
   "execution_count": 46,
   "metadata": {
    "collapsed": true,
    "jupyter": {
     "outputs_hidden": true
    }
   },
   "outputs": [
    {
     "name": "stdout",
     "output_type": "stream",
     "text": [
      "Amount of values / Nombre de valeurs = 6624324 / 6651720 (~ 99%)\n"
     ]
    },
    {
     "data": {
      "text/html": [
       "<div>\n",
       "<style scoped>\n",
       "    .dataframe tbody tr th:only-of-type {\n",
       "        vertical-align: middle;\n",
       "    }\n",
       "\n",
       "    .dataframe tbody tr th {\n",
       "        vertical-align: top;\n",
       "    }\n",
       "\n",
       "    .dataframe thead th {\n",
       "        text-align: right;\n",
       "    }\n",
       "</style>\n",
       "<table border=\"1\" class=\"dataframe\">\n",
       "  <thead>\n",
       "    <tr style=\"text-align: right;\">\n",
       "      <th></th>\n",
       "      <th>name</th>\n",
       "      <th>branch_name</th>\n",
       "      <th>address</th>\n",
       "      <th>telephone</th>\n",
       "      <th>city</th>\n",
       "      <th>latitude</th>\n",
       "      <th>longitude</th>\n",
       "      <th>avg_rating</th>\n",
       "      <th>product_grade</th>\n",
       "      <th>decoration_grade</th>\n",
       "      <th>service_grade</th>\n",
       "      <th>product_score</th>\n",
       "      <th>decoration_score</th>\n",
       "      <th>service_score</th>\n",
       "      <th>review_count</th>\n",
       "      <th>avg_price</th>\n",
       "      <th>photo_count</th>\n",
       "      <th>category</th>\n",
       "    </tr>\n",
       "    <tr>\n",
       "      <th>business_id</th>\n",
       "      <th></th>\n",
       "      <th></th>\n",
       "      <th></th>\n",
       "      <th></th>\n",
       "      <th></th>\n",
       "      <th></th>\n",
       "      <th></th>\n",
       "      <th></th>\n",
       "      <th></th>\n",
       "      <th></th>\n",
       "      <th></th>\n",
       "      <th></th>\n",
       "      <th></th>\n",
       "      <th></th>\n",
       "      <th></th>\n",
       "      <th></th>\n",
       "      <th></th>\n",
       "      <th></th>\n",
       "    </tr>\n",
       "  </thead>\n",
       "  <tbody>\n",
       "    <tr>\n",
       "      <th>500000</th>\n",
       "      <td>阿凡提美食娱乐城(这是一条测试商户数据，仅用于测试开发，开发完成后请申请正式数据...)</td>\n",
       "      <td></td>\n",
       "      <td>虹口区曲阳路775号天山宾馆B1楼</td>\n",
       "      <td>021-65559604</td>\n",
       "      <td>上海</td>\n",
       "      <td>31.288305</td>\n",
       "      <td>121.490440</td>\n",
       "      <td>30.0</td>\n",
       "      <td>1.0</td>\n",
       "      <td>1.0</td>\n",
       "      <td>1.0</td>\n",
       "      <td>6.8</td>\n",
       "      <td>6.3</td>\n",
       "      <td>6.3</td>\n",
       "      <td>482</td>\n",
       "      <td>81.0</td>\n",
       "      <td>140.0</td>\n",
       "      <td>新疆菜</td>\n",
       "    </tr>\n",
       "    <tr>\n",
       "      <th>500001</th>\n",
       "      <td>萨莎(这是一条测试商户数据，仅用于测试开发，开发完成后请申请正式数据...)</td>\n",
       "      <td></td>\n",
       "      <td>徐汇区东平路11号</td>\n",
       "      <td>021-64746628</td>\n",
       "      <td>上海</td>\n",
       "      <td>31.208550</td>\n",
       "      <td>121.449710</td>\n",
       "      <td>40.0</td>\n",
       "      <td>1.0</td>\n",
       "      <td>1.0</td>\n",
       "      <td>1.0</td>\n",
       "      <td>7.3</td>\n",
       "      <td>8.4</td>\n",
       "      <td>7.4</td>\n",
       "      <td>891</td>\n",
       "      <td>149.0</td>\n",
       "      <td>441.0</td>\n",
       "      <td>酒吧</td>\n",
       "    </tr>\n",
       "    <tr>\n",
       "      <th>500001</th>\n",
       "      <td>萨莎(这是一条测试商户数据，仅用于测试开发，开发完成后请申请正式数据...)</td>\n",
       "      <td></td>\n",
       "      <td>徐汇区东平路11号</td>\n",
       "      <td>021-64746628</td>\n",
       "      <td>上海</td>\n",
       "      <td>31.208550</td>\n",
       "      <td>121.449710</td>\n",
       "      <td>40.0</td>\n",
       "      <td>1.0</td>\n",
       "      <td>1.0</td>\n",
       "      <td>1.0</td>\n",
       "      <td>7.3</td>\n",
       "      <td>8.4</td>\n",
       "      <td>7.4</td>\n",
       "      <td>891</td>\n",
       "      <td>149.0</td>\n",
       "      <td>441.0</td>\n",
       "      <td>牛排</td>\n",
       "    </tr>\n",
       "    <tr>\n",
       "      <th>500003</th>\n",
       "      <td>1221餐馆(这是一条测试商户数据，仅用于测试开发，开发完成后请申请正式数据...)</td>\n",
       "      <td></td>\n",
       "      <td>长宁区延安西路1221号</td>\n",
       "      <td>021-62136585</td>\n",
       "      <td>上海</td>\n",
       "      <td>31.211315</td>\n",
       "      <td>121.427780</td>\n",
       "      <td>35.0</td>\n",
       "      <td>1.0</td>\n",
       "      <td>1.0</td>\n",
       "      <td>1.0</td>\n",
       "      <td>7.1</td>\n",
       "      <td>7.4</td>\n",
       "      <td>7.6</td>\n",
       "      <td>369</td>\n",
       "      <td>144.0</td>\n",
       "      <td>182.0</td>\n",
       "      <td>本帮菜</td>\n",
       "    </tr>\n",
       "    <tr>\n",
       "      <th>500008</th>\n",
       "      <td>Food Live(这是一条测试商户数据，仅用于测试开发，开发完成后请申请正式数据...)</td>\n",
       "      <td></td>\n",
       "      <td>浦东新区世纪大道88号金茂君悦大酒店B1楼</td>\n",
       "      <td>021-50491234-8283</td>\n",
       "      <td>上海</td>\n",
       "      <td>31.235252</td>\n",
       "      <td>121.505745</td>\n",
       "      <td>30.0</td>\n",
       "      <td>1.0</td>\n",
       "      <td>1.0</td>\n",
       "      <td>1.0</td>\n",
       "      <td>6.1</td>\n",
       "      <td>6.3</td>\n",
       "      <td>6.3</td>\n",
       "      <td>38</td>\n",
       "      <td>26.0</td>\n",
       "      <td>12.0</td>\n",
       "      <td>快餐简餐</td>\n",
       "    </tr>\n",
       "  </tbody>\n",
       "</table>\n",
       "</div>"
      ],
      "text/plain": [
       "                                                      name branch_name  \\\n",
       "business_id                                                              \n",
       "500000        阿凡提美食娱乐城(这是一条测试商户数据，仅用于测试开发，开发完成后请申请正式数据...)               \n",
       "500001              萨莎(这是一条测试商户数据，仅用于测试开发，开发完成后请申请正式数据...)               \n",
       "500001              萨莎(这是一条测试商户数据，仅用于测试开发，开发完成后请申请正式数据...)               \n",
       "500003          1221餐馆(这是一条测试商户数据，仅用于测试开发，开发完成后请申请正式数据...)               \n",
       "500008       Food Live(这是一条测试商户数据，仅用于测试开发，开发完成后请申请正式数据...)               \n",
       "\n",
       "                           address          telephone city   latitude  \\\n",
       "business_id                                                             \n",
       "500000           虹口区曲阳路775号天山宾馆B1楼       021-65559604   上海  31.288305   \n",
       "500001                   徐汇区东平路11号       021-64746628   上海  31.208550   \n",
       "500001                   徐汇区东平路11号       021-64746628   上海  31.208550   \n",
       "500003                长宁区延安西路1221号       021-62136585   上海  31.211315   \n",
       "500008       浦东新区世纪大道88号金茂君悦大酒店B1楼  021-50491234-8283   上海  31.235252   \n",
       "\n",
       "              longitude  avg_rating  product_grade  decoration_grade  \\\n",
       "business_id                                                            \n",
       "500000       121.490440        30.0            1.0               1.0   \n",
       "500001       121.449710        40.0            1.0               1.0   \n",
       "500001       121.449710        40.0            1.0               1.0   \n",
       "500003       121.427780        35.0            1.0               1.0   \n",
       "500008       121.505745        30.0            1.0               1.0   \n",
       "\n",
       "             service_grade  product_score  decoration_score  service_score  \\\n",
       "business_id                                                                  \n",
       "500000                 1.0            6.8               6.3            6.3   \n",
       "500001                 1.0            7.3               8.4            7.4   \n",
       "500001                 1.0            7.3               8.4            7.4   \n",
       "500003                 1.0            7.1               7.4            7.6   \n",
       "500008                 1.0            6.1               6.3            6.3   \n",
       "\n",
       "             review_count  avg_price  photo_count category  \n",
       "business_id                                                 \n",
       "500000                482       81.0        140.0      新疆菜  \n",
       "500001                891      149.0        441.0       酒吧  \n",
       "500001                891      149.0        441.0       牛排  \n",
       "500003                369      144.0        182.0      本帮菜  \n",
       "500008                 38       26.0         12.0     快餐简餐  "
      ]
     },
     "execution_count": 46,
     "metadata": {},
     "output_type": "execute_result"
    }
   ],
   "source": [
    "# Variables / Variables\n",
    "column = \"avg_rating\" # Column name / Nom de la colonne\n",
    "value = 50 # Compared value / Valeur comparee\n",
    "# Functions / Fonctions\n",
    "selectedSize = len (df[df[column] < value]) # Selection size / Taille de la selection\n",
    "totalSize = len(df) # Total size / Taille totale\n",
    "print(\"Amount of values / Nombre de valeurs = \" + str(selectedSize) + \" / \" + str(totalSize) + \" (~ \" + str(int(100 * selectedSize/totalSize)) + \"%)\")\n",
    "df[df[column] < value].head() # Print results / Affichage les resultats"
   ]
  },
  {
   "cell_type": "markdown",
   "metadata": {},
   "source": [
    "## 5. Plot / Affichage"
   ]
  },
  {
   "cell_type": "markdown",
   "metadata": {},
   "source": [
    "### 5.1 Barplot / Histogramme"
   ]
  },
  {
   "cell_type": "code",
   "execution_count": 9,
   "metadata": {},
   "outputs": [
    {
     "data": {
      "text/plain": [
       "<matplotlib.axes._subplots.AxesSubplot at 0x7f24bc7d1a00>"
      ]
     },
     "execution_count": 9,
     "metadata": {},
     "output_type": "execute_result"
    },
    {
     "data": {
      "image/png": "[encoded data removed]",
      "text/plain": [
       "<Figure size 432x288 with 1 Axes>"
      ]
     },
     "metadata": {
      "needs_background": "light"
     },
     "output_type": "display_data"
    }
   ],
   "source": [
    "# Variables / Variables\n",
    "column = \"speed\" # Column name / Nom de la colonne\n",
    "# Functions / Fonctions\n",
    "df[column].hist()"
   ]
  },
  {
   "cell_type": "markdown",
   "metadata": {},
   "source": [
    "### 5.2 Simple graph / Graphique Simple"
   ]
  },
  {
   "cell_type": "code",
   "execution_count": 43,
   "metadata": {},
   "outputs": [
    {
     "ename": "TypeError",
     "evalue": "no numeric data to plot",
     "output_type": "error",
     "traceback": [
      "\u001b[0;31m---------------------------------------------------------------------------\u001b[0m",
      "\u001b[0;31mTypeError\u001b[0m                                 Traceback (most recent call last)",
      "\u001b[0;32m<ipython-input-43-b17e94f2d0d4>\u001b[0m in \u001b[0;36m<module>\u001b[0;34m\u001b[0m\n\u001b[1;32m      2\u001b[0m \u001b[0mcolumn\u001b[0m \u001b[0;34m=\u001b[0m \u001b[0;34m\"noise\"\u001b[0m \u001b[0;31m# Column name / Nom de la colonne\u001b[0m\u001b[0;34m\u001b[0m\u001b[0;34m\u001b[0m\u001b[0m\n\u001b[1;32m      3\u001b[0m \u001b[0;31m# Functions / Fonctions\u001b[0m\u001b[0;34m\u001b[0m\u001b[0;34m\u001b[0m\u001b[0;34m\u001b[0m\u001b[0m\n\u001b[0;32m----> 4\u001b[0;31m \u001b[0mdf\u001b[0m\u001b[0;34m[\u001b[0m\u001b[0;34m[\u001b[0m\u001b[0mcolumn\u001b[0m\u001b[0;34m]\u001b[0m\u001b[0;34m]\u001b[0m\u001b[0;34m.\u001b[0m\u001b[0mplot\u001b[0m\u001b[0;34m(\u001b[0m\u001b[0;34m)\u001b[0m\u001b[0;34m\u001b[0m\u001b[0;34m\u001b[0m\u001b[0m\n\u001b[0m",
      "\u001b[0;32m/usr/lib/python3.8/site-packages/pandas/plotting/_core.py\u001b[0m in \u001b[0;36m__call__\u001b[0;34m(self, *args, **kwargs)\u001b[0m\n\u001b[1;32m    792\u001b[0m                     \u001b[0mdata\u001b[0m\u001b[0;34m.\u001b[0m\u001b[0mcolumns\u001b[0m \u001b[0;34m=\u001b[0m \u001b[0mlabel_name\u001b[0m\u001b[0;34m\u001b[0m\u001b[0;34m\u001b[0m\u001b[0m\n\u001b[1;32m    793\u001b[0m \u001b[0;34m\u001b[0m\u001b[0m\n\u001b[0;32m--> 794\u001b[0;31m         \u001b[0;32mreturn\u001b[0m \u001b[0mplot_backend\u001b[0m\u001b[0;34m.\u001b[0m\u001b[0mplot\u001b[0m\u001b[0;34m(\u001b[0m\u001b[0mdata\u001b[0m\u001b[0;34m,\u001b[0m \u001b[0mkind\u001b[0m\u001b[0;34m=\u001b[0m\u001b[0mkind\u001b[0m\u001b[0;34m,\u001b[0m \u001b[0;34m**\u001b[0m\u001b[0mkwargs\u001b[0m\u001b[0;34m)\u001b[0m\u001b[0;34m\u001b[0m\u001b[0;34m\u001b[0m\u001b[0m\n\u001b[0m\u001b[1;32m    795\u001b[0m \u001b[0;34m\u001b[0m\u001b[0m\n\u001b[1;32m    796\u001b[0m     \u001b[0;32mdef\u001b[0m \u001b[0mline\u001b[0m\u001b[0;34m(\u001b[0m\u001b[0mself\u001b[0m\u001b[0;34m,\u001b[0m \u001b[0mx\u001b[0m\u001b[0;34m=\u001b[0m\u001b[0;32mNone\u001b[0m\u001b[0;34m,\u001b[0m \u001b[0my\u001b[0m\u001b[0;34m=\u001b[0m\u001b[0;32mNone\u001b[0m\u001b[0;34m,\u001b[0m \u001b[0;34m**\u001b[0m\u001b[0mkwargs\u001b[0m\u001b[0;34m)\u001b[0m\u001b[0;34m:\u001b[0m\u001b[0;34m\u001b[0m\u001b[0;34m\u001b[0m\u001b[0m\n",
      "\u001b[0;32m/usr/lib/python3.8/site-packages/pandas/plotting/_matplotlib/__init__.py\u001b[0m in \u001b[0;36mplot\u001b[0;34m(data, kind, **kwargs)\u001b[0m\n\u001b[1;32m     60\u001b[0m             \u001b[0mkwargs\u001b[0m\u001b[0;34m[\u001b[0m\u001b[0;34m\"ax\"\u001b[0m\u001b[0;34m]\u001b[0m \u001b[0;34m=\u001b[0m \u001b[0mgetattr\u001b[0m\u001b[0;34m(\u001b[0m\u001b[0max\u001b[0m\u001b[0;34m,\u001b[0m \u001b[0;34m\"left_ax\"\u001b[0m\u001b[0;34m,\u001b[0m \u001b[0max\u001b[0m\u001b[0;34m)\u001b[0m\u001b[0;34m\u001b[0m\u001b[0;34m\u001b[0m\u001b[0m\n\u001b[1;32m     61\u001b[0m     \u001b[0mplot_obj\u001b[0m \u001b[0;34m=\u001b[0m \u001b[0mPLOT_CLASSES\u001b[0m\u001b[0;34m[\u001b[0m\u001b[0mkind\u001b[0m\u001b[0;34m]\u001b[0m\u001b[0;34m(\u001b[0m\u001b[0mdata\u001b[0m\u001b[0;34m,\u001b[0m \u001b[0;34m**\u001b[0m\u001b[0mkwargs\u001b[0m\u001b[0;34m)\u001b[0m\u001b[0;34m\u001b[0m\u001b[0;34m\u001b[0m\u001b[0m\n\u001b[0;32m---> 62\u001b[0;31m     \u001b[0mplot_obj\u001b[0m\u001b[0;34m.\u001b[0m\u001b[0mgenerate\u001b[0m\u001b[0;34m(\u001b[0m\u001b[0;34m)\u001b[0m\u001b[0;34m\u001b[0m\u001b[0;34m\u001b[0m\u001b[0m\n\u001b[0m\u001b[1;32m     63\u001b[0m     \u001b[0mplot_obj\u001b[0m\u001b[0;34m.\u001b[0m\u001b[0mdraw\u001b[0m\u001b[0;34m(\u001b[0m\u001b[0;34m)\u001b[0m\u001b[0;34m\u001b[0m\u001b[0;34m\u001b[0m\u001b[0m\n\u001b[1;32m     64\u001b[0m     \u001b[0;32mreturn\u001b[0m \u001b[0mplot_obj\u001b[0m\u001b[0;34m.\u001b[0m\u001b[0mresult\u001b[0m\u001b[0;34m\u001b[0m\u001b[0;34m\u001b[0m\u001b[0m\n",
      "\u001b[0;32m/usr/lib/python3.8/site-packages/pandas/plotting/_matplotlib/core.py\u001b[0m in \u001b[0;36mgenerate\u001b[0;34m(self)\u001b[0m\n\u001b[1;32m    277\u001b[0m     \u001b[0;32mdef\u001b[0m \u001b[0mgenerate\u001b[0m\u001b[0;34m(\u001b[0m\u001b[0mself\u001b[0m\u001b[0;34m)\u001b[0m\u001b[0;34m:\u001b[0m\u001b[0;34m\u001b[0m\u001b[0;34m\u001b[0m\u001b[0m\n\u001b[1;32m    278\u001b[0m         \u001b[0mself\u001b[0m\u001b[0;34m.\u001b[0m\u001b[0m_args_adjust\u001b[0m\u001b[0;34m(\u001b[0m\u001b[0;34m)\u001b[0m\u001b[0;34m\u001b[0m\u001b[0;34m\u001b[0m\u001b[0m\n\u001b[0;32m--> 279\u001b[0;31m         \u001b[0mself\u001b[0m\u001b[0;34m.\u001b[0m\u001b[0m_compute_plot_data\u001b[0m\u001b[0;34m(\u001b[0m\u001b[0;34m)\u001b[0m\u001b[0;34m\u001b[0m\u001b[0;34m\u001b[0m\u001b[0m\n\u001b[0m\u001b[1;32m    280\u001b[0m         \u001b[0mself\u001b[0m\u001b[0;34m.\u001b[0m\u001b[0m_setup_subplots\u001b[0m\u001b[0;34m(\u001b[0m\u001b[0;34m)\u001b[0m\u001b[0;34m\u001b[0m\u001b[0;34m\u001b[0m\u001b[0m\n\u001b[1;32m    281\u001b[0m         \u001b[0mself\u001b[0m\u001b[0;34m.\u001b[0m\u001b[0m_make_plot\u001b[0m\u001b[0;34m(\u001b[0m\u001b[0;34m)\u001b[0m\u001b[0;34m\u001b[0m\u001b[0;34m\u001b[0m\u001b[0m\n",
      "\u001b[0;32m/usr/lib/python3.8/site-packages/pandas/plotting/_matplotlib/core.py\u001b[0m in \u001b[0;36m_compute_plot_data\u001b[0;34m(self)\u001b[0m\n\u001b[1;32m    412\u001b[0m         \u001b[0;31m# no non-numeric frames or series allowed\u001b[0m\u001b[0;34m\u001b[0m\u001b[0;34m\u001b[0m\u001b[0;34m\u001b[0m\u001b[0m\n\u001b[1;32m    413\u001b[0m         \u001b[0;32mif\u001b[0m \u001b[0mis_empty\u001b[0m\u001b[0;34m:\u001b[0m\u001b[0;34m\u001b[0m\u001b[0;34m\u001b[0m\u001b[0m\n\u001b[0;32m--> 414\u001b[0;31m             \u001b[0;32mraise\u001b[0m \u001b[0mTypeError\u001b[0m\u001b[0;34m(\u001b[0m\u001b[0;34m\"no numeric data to plot\"\u001b[0m\u001b[0;34m)\u001b[0m\u001b[0;34m\u001b[0m\u001b[0;34m\u001b[0m\u001b[0m\n\u001b[0m\u001b[1;32m    415\u001b[0m \u001b[0;34m\u001b[0m\u001b[0m\n\u001b[1;32m    416\u001b[0m         \u001b[0;31m# GH25587: cast ExtensionArray of pandas (IntegerArray, etc.) to\u001b[0m\u001b[0;34m\u001b[0m\u001b[0;34m\u001b[0m\u001b[0;34m\u001b[0m\u001b[0m\n",
      "\u001b[0;31mTypeError\u001b[0m: no numeric data to plot"
     ]
    }
   ],
   "source": [
    "# Variables / Variables\n",
    "column = \"noise\" # Column name / Nom de la colonne\n",
    "# Functions / Fonctions\n",
    "df[[column]].plot()"
   ]
  },
  {
   "cell_type": "markdown",
   "metadata": {},
   "source": [
    "### 5.3 Boxplot / Boite a moustaches"
   ]
  },
  {
   "cell_type": "code",
   "execution_count": 62,
   "metadata": {},
   "outputs": [
    {
     "ename": "TypeError",
     "evalue": "only size-1 arrays can be converted to Python scalars",
     "output_type": "error",
     "traceback": [
      "\u001b[0;31m---------------------------------------------------------------------------\u001b[0m",
      "\u001b[0;31mTypeError\u001b[0m                                 Traceback (most recent call last)",
      "\u001b[0;32m<ipython-input-62-01b532e84dee>\u001b[0m in \u001b[0;36m<module>\u001b[0;34m\u001b[0m\n\u001b[1;32m      3\u001b[0m \u001b[0;31m# Functions / Fonctions\u001b[0m\u001b[0;34m\u001b[0m\u001b[0;34m\u001b[0m\u001b[0;34m\u001b[0m\u001b[0m\n\u001b[1;32m      4\u001b[0m \u001b[0mvalues\u001b[0m \u001b[0;34m=\u001b[0m \u001b[0mdf\u001b[0m\u001b[0;34m[\u001b[0m\u001b[0;34m[\u001b[0m\u001b[0mcolumn\u001b[0m\u001b[0;34m]\u001b[0m\u001b[0;34m]\u001b[0m\u001b[0;34m.\u001b[0m\u001b[0mvalues\u001b[0m\u001b[0;34m\u001b[0m\u001b[0;34m\u001b[0m\u001b[0m\n\u001b[0;32m----> 5\u001b[0;31m \u001b[0mnp\u001b[0m\u001b[0;34m.\u001b[0m\u001b[0mmean\u001b[0m\u001b[0;34m(\u001b[0m\u001b[0mint\u001b[0m\u001b[0;34m(\u001b[0m\u001b[0mvalues\u001b[0m\u001b[0;34m)\u001b[0m\u001b[0;34m)\u001b[0m\u001b[0;34m\u001b[0m\u001b[0;34m\u001b[0m\u001b[0m\n\u001b[0m",
      "\u001b[0;31mTypeError\u001b[0m: only size-1 arrays can be converted to Python scalars"
     ]
    }
   ],
   "source": [
    "# Variables / Variables\n",
    "column = \"noise\" # Column name / Nom de la colonne\n",
    "# Functions / Fonctions\n",
    "df[column].boxplot()"
   ]
  },
  {
   "cell_type": "code",
   "execution_count": 17,
   "metadata": {},
   "outputs": [
    {
     "ename": "NameError",
     "evalue": "name 'DataFrame' is not defined",
     "output_type": "error",
     "traceback": [
      "\u001b[0;31m---------------------------------------------------------------------------\u001b[0m",
      "\u001b[0;31mNameError\u001b[0m                                 Traceback (most recent call last)",
      "\u001b[0;32m<ipython-input-17-8783da08ab3a>\u001b[0m in \u001b[0;36m<module>\u001b[0;34m\u001b[0m\n\u001b[0;32m----> 1\u001b[0;31m \u001b[0mtype\u001b[0m\u001b[0;34m(\u001b[0m\u001b[0mdf\u001b[0m \u001b[0;34m==\u001b[0m \u001b[0mDataFrame\u001b[0m\u001b[0;34m)\u001b[0m\u001b[0;34m\u001b[0m\u001b[0;34m\u001b[0m\u001b[0m\n\u001b[0m",
      "\u001b[0;31mNameError\u001b[0m: name 'DataFrame' is not defined"
     ]
    }
   ],
   "source": []
  },
  {
   "cell_type": "code",
   "execution_count": 77,
   "metadata": {},
   "outputs": [],
   "source": [
    "df['neighborhood'] = df[\"\"]"
   ]
  },
  {
   "cell_type": "code",
   "execution_count": 117,
   "metadata": {},
   "outputs": [],
   "source": [
    "savedDf = df[[\"lon\", \"lat\", \"speed\"]]"
   ]
  },
  {
   "cell_type": "code",
   "execution_count": 118,
   "metadata": {},
   "outputs": [],
   "source": [
    "savedDf.index = df.taxi_id"
   ]
  },
  {
   "cell_type": "code",
   "execution_count": 119,
   "metadata": {},
   "outputs": [
    {
     "data": {
      "text/html": [
       "<div>\n",
       "<style scoped>\n",
       "    .dataframe tbody tr th:only-of-type {\n",
       "        vertical-align: middle;\n",
       "    }\n",
       "\n",
       "    .dataframe tbody tr th {\n",
       "        vertical-align: top;\n",
       "    }\n",
       "\n",
       "    .dataframe thead th {\n",
       "        text-align: right;\n",
       "    }\n",
       "</style>\n",
       "<table border=\"1\" class=\"dataframe\">\n",
       "  <thead>\n",
       "    <tr style=\"text-align: right;\">\n",
       "      <th></th>\n",
       "      <th>lon</th>\n",
       "      <th>lat</th>\n",
       "      <th>speed</th>\n",
       "    </tr>\n",
       "    <tr>\n",
       "      <th>taxi_id</th>\n",
       "      <th></th>\n",
       "      <th></th>\n",
       "      <th></th>\n",
       "    </tr>\n",
       "  </thead>\n",
       "  <tbody>\n",
       "    <tr>\n",
       "      <th>24029</th>\n",
       "      <td>121.421822</td>\n",
       "      <td>31.212080</td>\n",
       "      <td>19.6</td>\n",
       "    </tr>\n",
       "    <tr>\n",
       "      <th>24029</th>\n",
       "      <td>121.423275</td>\n",
       "      <td>31.212148</td>\n",
       "      <td>15.8</td>\n",
       "    </tr>\n",
       "    <tr>\n",
       "      <th>24029</th>\n",
       "      <td>121.424295</td>\n",
       "      <td>31.212597</td>\n",
       "      <td>11.5</td>\n",
       "    </tr>\n",
       "    <tr>\n",
       "      <th>24029</th>\n",
       "      <td>121.426872</td>\n",
       "      <td>31.215222</td>\n",
       "      <td>6.5</td>\n",
       "    </tr>\n",
       "    <tr>\n",
       "      <th>24029</th>\n",
       "      <td>121.427138</td>\n",
       "      <td>31.215365</td>\n",
       "      <td>6.7</td>\n",
       "    </tr>\n",
       "    <tr>\n",
       "      <th>...</th>\n",
       "      <td>...</td>\n",
       "      <td>...</td>\n",
       "      <td>...</td>\n",
       "    </tr>\n",
       "    <tr>\n",
       "      <th>28192</th>\n",
       "      <td>121.433313</td>\n",
       "      <td>31.273960</td>\n",
       "      <td>34.1</td>\n",
       "    </tr>\n",
       "    <tr>\n",
       "      <th>28192</th>\n",
       "      <td>121.433088</td>\n",
       "      <td>31.271658</td>\n",
       "      <td>19.4</td>\n",
       "    </tr>\n",
       "    <tr>\n",
       "      <th>28192</th>\n",
       "      <td>121.432843</td>\n",
       "      <td>31.271480</td>\n",
       "      <td>0.0</td>\n",
       "    </tr>\n",
       "    <tr>\n",
       "      <th>28192</th>\n",
       "      <td>121.432838</td>\n",
       "      <td>31.271477</td>\n",
       "      <td>0.0</td>\n",
       "    </tr>\n",
       "    <tr>\n",
       "      <th>28192</th>\n",
       "      <td>121.432097</td>\n",
       "      <td>31.270923</td>\n",
       "      <td>0.0</td>\n",
       "    </tr>\n",
       "  </tbody>\n",
       "</table>\n",
       "<p>1479039 rows × 3 columns</p>\n",
       "</div>"
      ],
      "text/plain": [
       "                lon        lat  speed\n",
       "taxi_id                              \n",
       "24029    121.421822  31.212080   19.6\n",
       "24029    121.423275  31.212148   15.8\n",
       "24029    121.424295  31.212597   11.5\n",
       "24029    121.426872  31.215222    6.5\n",
       "24029    121.427138  31.215365    6.7\n",
       "...             ...        ...    ...\n",
       "28192    121.433313  31.273960   34.1\n",
       "28192    121.433088  31.271658   19.4\n",
       "28192    121.432843  31.271480    0.0\n",
       "28192    121.432838  31.271477    0.0\n",
       "28192    121.432097  31.270923    0.0\n",
       "\n",
       "[1479039 rows x 3 columns]"
      ]
     },
     "execution_count": 119,
     "metadata": {},
     "output_type": "execute_result"
    }
   ],
   "source": [
    "savedDf"
   ]
  },
  {
   "cell_type": "code",
   "execution_count": 152,
   "metadata": {},
   "outputs": [
    {
     "name": "stderr",
     "output_type": "stream",
     "text": [
      "/usr/lib/python3.8/site-packages/pandas/core/ops/__init__.py:1115: FutureWarning: elementwise comparison failed; returning scalar instead, but in the future will perform elementwise comparison\n",
      "  result = method(y)\n"
     ]
    }
   ],
   "source": [
    "df = df[df.lon != \"\"]\n",
    "df = df[df.lat != \"\"]\n",
    "df[\"lon\"] = df['lon'].apply(float)\n",
    "df[\"lat\"] = df['lat'].apply(float)"
   ]
  },
  {
   "cell_type": "code",
   "execution_count": 153,
   "metadata": {},
   "outputs": [
    {
     "data": {
      "text/plain": [
       "Index(['taxi_id', 'time', 'status', 'lon', 'lat', 'speed', 'geometry'], dtype='object')"
      ]
     },
     "execution_count": 153,
     "metadata": {},
     "output_type": "execute_result"
    }
   ],
   "source": [
    "df.columns"
   ]
  },
  {
   "cell_type": "code",
   "execution_count": 154,
   "metadata": {},
   "outputs": [],
   "source": [
    "savedDf = df[[\"lon\", \"lat\", \"speed\"]]\n",
    "savedDf.to_pickle(\"pickles/utseus-shanghai-taxi-speed-position-cleaned.pk\")"
   ]
  },
  {
   "cell_type": "code",
   "execution_count": 17,
   "metadata": {},
   "outputs": [],
   "source": [
    "df = df[df.start_location_x != \"\"]\n",
    "df = df[df.start_location_y != \"\"]\n",
    "df = df[df.end_location_x != \"\"]\n",
    "df = df[df.end_location_y != \"\"]\n",
    "df[\"start_location_x\"] = df['start_location_x'].apply(float)\n",
    "df[\"start_location_y\"] = df['start_location_y'].apply(float)\n",
    "df[\"end_location_x\"] = df['end_location_x'].apply(float)\n",
    "df[\"end_location_y\"] = df['end_location_y'].apply(float)"
   ]
  },
  {
   "cell_type": "code",
   "execution_count": 164,
   "metadata": {},
   "outputs": [
    {
     "data": {
      "text/plain": [
       "Index(['', 'clean', 'smell', 'noise', 'town', 'district', 'longitude',\n",
       "       'latitude'],\n",
       "      dtype='object')"
      ]
     },
     "execution_count": 164,
     "metadata": {},
     "output_type": "execute_result"
    }
   ],
   "source": [
    "df.columns"
   ]
  },
  {
   "cell_type": "code",
   "execution_count": 166,
   "metadata": {},
   "outputs": [],
   "source": [
    "savedDf = df[[\"noise\", \"longitude\", \"latitude\", \"district\", \"town\"]]\n",
    "savedDf.to_pickle(\"pickles/TARGET-communities-extract-wellbeing-cleaned.pkl\")"
   ]
  },
  {
   "cell_type": "code",
   "execution_count": 125,
   "metadata": {},
   "outputs": [],
   "source": [
    "neighborhood = pd.read_pickle(\"pickles/utseus-cendus-shanghai-neighborhoods.pk\")"
   ]
  },
  {
   "cell_type": "code",
   "execution_count": 126,
   "metadata": {},
   "outputs": [
    {
     "data": {
      "text/html": [
       "<div>\n",
       "<style scoped>\n",
       "    .dataframe tbody tr th:only-of-type {\n",
       "        vertical-align: middle;\n",
       "    }\n",
       "\n",
       "    .dataframe tbody tr th {\n",
       "        vertical-align: top;\n",
       "    }\n",
       "\n",
       "    .dataframe thead th {\n",
       "        text-align: right;\n",
       "    }\n",
       "</style>\n",
       "<table border=\"1\" class=\"dataframe\">\n",
       "  <thead>\n",
       "    <tr style=\"text-align: right;\">\n",
       "      <th></th>\n",
       "      <th>NAME</th>\n",
       "      <th>TYPE</th>\n",
       "      <th>geometry</th>\n",
       "    </tr>\n",
       "  </thead>\n",
       "  <tbody>\n",
       "    <tr>\n",
       "      <th>0</th>\n",
       "      <td>??</td>\n",
       "      <td>2</td>\n",
       "      <td>POLYGON Z ((121.42168 30.68471 0.00000, 121.42...</td>\n",
       "    </tr>\n",
       "    <tr>\n",
       "      <th>1</th>\n",
       "      <td>???</td>\n",
       "      <td>2</td>\n",
       "      <td>POLYGON Z ((121.41199 30.69374 0.00000, 121.41...</td>\n",
       "    </tr>\n",
       "    <tr>\n",
       "      <th>2</th>\n",
       "      <td>???</td>\n",
       "      <td>2</td>\n",
       "      <td>POLYGON Z ((121.40163 30.70717 0.00000, 121.40...</td>\n",
       "    </tr>\n",
       "    <tr>\n",
       "      <th>3</th>\n",
       "      <td>????</td>\n",
       "      <td>2</td>\n",
       "      <td>POLYGON Z ((121.33687 30.73806 0.00000, 121.33...</td>\n",
       "    </tr>\n",
       "    <tr>\n",
       "      <th>4</th>\n",
       "      <td>????</td>\n",
       "      <td>2</td>\n",
       "      <td>POLYGON Z ((121.25143 30.79177 0.00000, 121.25...</td>\n",
       "    </tr>\n",
       "  </tbody>\n",
       "</table>\n",
       "</div>"
      ],
      "text/plain": [
       "   NAME  TYPE                                           geometry\n",
       "0    ??     2  POLYGON Z ((121.42168 30.68471 0.00000, 121.42...\n",
       "1   ???     2  POLYGON Z ((121.41199 30.69374 0.00000, 121.41...\n",
       "2   ???     2  POLYGON Z ((121.40163 30.70717 0.00000, 121.40...\n",
       "3  ????     2  POLYGON Z ((121.33687 30.73806 0.00000, 121.33...\n",
       "4  ????     2  POLYGON Z ((121.25143 30.79177 0.00000, 121.25..."
      ]
     },
     "execution_count": 126,
     "metadata": {},
     "output_type": "execute_result"
    }
   ],
   "source": [
    "neighborhood.head()"
   ]
  },
  {
   "cell_type": "code",
   "execution_count": 157,
   "metadata": {},
   "outputs": [
    {
     "data": {
      "text/plain": [
       "774794"
      ]
     },
     "execution_count": 157,
     "metadata": {},
     "output_type": "execute_result"
    }
   ],
   "source": [
    "len(savedDf)"
   ]
  },
  {
   "cell_type": "code",
   "execution_count": 128,
   "metadata": {},
   "outputs": [
    {
     "data": {
      "text/plain": [
       "<bound method Series.unique of 0      Polygon\n",
       "1      Polygon\n",
       "2      Polygon\n",
       "3      Polygon\n",
       "4      Polygon\n",
       "        ...   \n",
       "261    Polygon\n",
       "262    Polygon\n",
       "263    Polygon\n",
       "264    Polygon\n",
       "265    Polygon\n",
       "Length: 266, dtype: object>"
      ]
     },
     "execution_count": 128,
     "metadata": {},
     "output_type": "execute_result"
    }
   ],
   "source": [
    "neighborhood.type.unique"
   ]
  },
  {
   "cell_type": "code",
   "execution_count": 139,
   "metadata": {},
   "outputs": [
    {
     "data": {
      "text/plain": [
       "Index(['lon', 'lat', 'speed'], dtype='object')"
      ]
     },
     "execution_count": 139,
     "metadata": {},
     "output_type": "execute_result"
    }
   ],
   "source": [
    "df.columns"
   ]
  },
  {
   "cell_type": "code",
   "execution_count": 5,
   "metadata": {},
   "outputs": [
    {
     "data": {
      "text/html": [
       "<div>\n",
       "<style scoped>\n",
       "    .dataframe tbody tr th:only-of-type {\n",
       "        vertical-align: middle;\n",
       "    }\n",
       "\n",
       "    .dataframe tbody tr th {\n",
       "        vertical-align: top;\n",
       "    }\n",
       "\n",
       "    .dataframe thead th {\n",
       "        text-align: right;\n",
       "    }\n",
       "</style>\n",
       "<table border=\"1\" class=\"dataframe\">\n",
       "  <thead>\n",
       "    <tr style=\"text-align: right;\">\n",
       "      <th></th>\n",
       "      <th>quietness</th>\n",
       "      <th>distance</th>\n",
       "      <th>geometry</th>\n",
       "    </tr>\n",
       "  </thead>\n",
       "  <tbody>\n",
       "    <tr>\n",
       "      <th>0</th>\n",
       "      <td>0.101105</td>\n",
       "      <td>30.081160</td>\n",
       "      <td>LINESTRING (121.56385 29.82884, 121.56384 29.8...</td>\n",
       "    </tr>\n",
       "    <tr>\n",
       "      <th>1</th>\n",
       "      <td>0.099379</td>\n",
       "      <td>363.090546</td>\n",
       "      <td>LINESTRING (121.56385 29.82884, 121.56364 29.8...</td>\n",
       "    </tr>\n",
       "    <tr>\n",
       "      <th>2</th>\n",
       "      <td>0.099379</td>\n",
       "      <td>12.700058</td>\n",
       "      <td>LINESTRING (121.56398 29.82885, 121.56385 29.8...</td>\n",
       "    </tr>\n",
       "    <tr>\n",
       "      <th>3</th>\n",
       "      <td>0.101105</td>\n",
       "      <td>95.892204</td>\n",
       "      <td>LINESTRING (121.56391 29.82970, 121.56386 29.8...</td>\n",
       "    </tr>\n",
       "    <tr>\n",
       "      <th>4</th>\n",
       "      <td>-10.000000</td>\n",
       "      <td>561.564880</td>\n",
       "      <td>LINESTRING (121.53612 29.78676, 121.53969 29.7...</td>\n",
       "    </tr>\n",
       "  </tbody>\n",
       "</table>\n",
       "</div>"
      ],
      "text/plain": [
       "   quietness    distance                                           geometry\n",
       "0   0.101105   30.081160  LINESTRING (121.56385 29.82884, 121.56384 29.8...\n",
       "1   0.099379  363.090546  LINESTRING (121.56385 29.82884, 121.56364 29.8...\n",
       "2   0.099379   12.700058  LINESTRING (121.56398 29.82885, 121.56385 29.8...\n",
       "3   0.101105   95.892204  LINESTRING (121.56391 29.82970, 121.56386 29.8...\n",
       "4 -10.000000  561.564880  LINESTRING (121.53612 29.78676, 121.53969 29.7..."
      ]
     },
     "execution_count": 5,
     "metadata": {},
     "output_type": "execute_result"
    }
   ],
   "source": [
    "df.head()"
   ]
  },
  {
   "cell_type": "code",
   "execution_count": 7,
   "metadata": {},
   "outputs": [],
   "source": [
    "shPoly = Polygon([(shanghaiMinLongitude, shanghaiMinLatitude), (shanghaiMinLongitude, shanghaiMaxLatitude), (shanghaiMaxLongitude, shanghaiMaxLatitude), (shanghaiMaxLongitude, shanghaiMinLatitude)])"
   ]
  },
  {
   "cell_type": "code",
   "execution_count": 10,
   "metadata": {},
   "outputs": [
    {
     "name": "stdout",
     "output_type": "stream",
     "text": [
      "38874 values dropped\n"
     ]
    }
   ],
   "source": [
    "size = len(df)\n",
    "df = df[df.geometry.within(shPoly)]\n",
    "print(size - len(df), \"values dropped\")"
   ]
  },
  {
   "cell_type": "code",
   "execution_count": 11,
   "metadata": {},
   "outputs": [
    {
     "data": {
      "text/html": [
       "<div>\n",
       "<style scoped>\n",
       "    .dataframe tbody tr th:only-of-type {\n",
       "        vertical-align: middle;\n",
       "    }\n",
       "\n",
       "    .dataframe tbody tr th {\n",
       "        vertical-align: top;\n",
       "    }\n",
       "\n",
       "    .dataframe thead th {\n",
       "        text-align: right;\n",
       "    }\n",
       "</style>\n",
       "<table border=\"1\" class=\"dataframe\">\n",
       "  <thead>\n",
       "    <tr style=\"text-align: right;\">\n",
       "      <th></th>\n",
       "      <th>quietness</th>\n",
       "      <th>distance</th>\n",
       "      <th>geometry</th>\n",
       "    </tr>\n",
       "  </thead>\n",
       "  <tbody>\n",
       "    <tr>\n",
       "      <th>12</th>\n",
       "      <td>0.441669</td>\n",
       "      <td>68.359344</td>\n",
       "      <td>LINESTRING (121.47242 31.22315, 121.47226 31.2...</td>\n",
       "    </tr>\n",
       "    <tr>\n",
       "      <th>13</th>\n",
       "      <td>-0.535838</td>\n",
       "      <td>178.448013</td>\n",
       "      <td>LINESTRING (121.47226 31.22375, 121.47253 31.2...</td>\n",
       "    </tr>\n",
       "    <tr>\n",
       "      <th>14</th>\n",
       "      <td>-0.015765</td>\n",
       "      <td>60.692032</td>\n",
       "      <td>LINESTRING (121.47162 31.22376, 121.47176 31.2...</td>\n",
       "    </tr>\n",
       "    <tr>\n",
       "      <th>15</th>\n",
       "      <td>-0.981896</td>\n",
       "      <td>9515.562500</td>\n",
       "      <td>LINESTRING (121.10299 31.43277, 121.11661 31.4...</td>\n",
       "    </tr>\n",
       "    <tr>\n",
       "      <th>16</th>\n",
       "      <td>-0.140280</td>\n",
       "      <td>97.197342</td>\n",
       "      <td>LINESTRING (121.16872 31.36934, 121.16868 31.3...</td>\n",
       "    </tr>\n",
       "    <tr>\n",
       "      <th>...</th>\n",
       "      <td>...</td>\n",
       "      <td>...</td>\n",
       "      <td>...</td>\n",
       "    </tr>\n",
       "    <tr>\n",
       "      <th>85409</th>\n",
       "      <td>-10.000000</td>\n",
       "      <td>280.298615</td>\n",
       "      <td>LINESTRING (121.30810 31.25230, 121.31105 31.2...</td>\n",
       "    </tr>\n",
       "    <tr>\n",
       "      <th>85410</th>\n",
       "      <td>-0.078818</td>\n",
       "      <td>36.047173</td>\n",
       "      <td>LINESTRING (121.37199 31.36137, 121.37165 31.3...</td>\n",
       "    </tr>\n",
       "    <tr>\n",
       "      <th>85413</th>\n",
       "      <td>0.442709</td>\n",
       "      <td>1.591406</td>\n",
       "      <td>LINESTRING (121.22730 31.33499, 121.22729 31.3...</td>\n",
       "    </tr>\n",
       "    <tr>\n",
       "      <th>85414</th>\n",
       "      <td>-0.028708</td>\n",
       "      <td>31.211342</td>\n",
       "      <td>LINESTRING (121.21182 31.26743, 121.21198 31.2...</td>\n",
       "    </tr>\n",
       "    <tr>\n",
       "      <th>85415</th>\n",
       "      <td>-10.000000</td>\n",
       "      <td>103.138237</td>\n",
       "      <td>LINESTRING (121.49710 31.35455, 121.49672 31.3...</td>\n",
       "    </tr>\n",
       "  </tbody>\n",
       "</table>\n",
       "<p>46542 rows × 3 columns</p>\n",
       "</div>"
      ],
      "text/plain": [
       "       quietness     distance  \\\n",
       "12      0.441669    68.359344   \n",
       "13     -0.535838   178.448013   \n",
       "14     -0.015765    60.692032   \n",
       "15     -0.981896  9515.562500   \n",
       "16     -0.140280    97.197342   \n",
       "...          ...          ...   \n",
       "85409 -10.000000   280.298615   \n",
       "85410  -0.078818    36.047173   \n",
       "85413   0.442709     1.591406   \n",
       "85414  -0.028708    31.211342   \n",
       "85415 -10.000000   103.138237   \n",
       "\n",
       "                                                geometry  \n",
       "12     LINESTRING (121.47242 31.22315, 121.47226 31.2...  \n",
       "13     LINESTRING (121.47226 31.22375, 121.47253 31.2...  \n",
       "14     LINESTRING (121.47162 31.22376, 121.47176 31.2...  \n",
       "15     LINESTRING (121.10299 31.43277, 121.11661 31.4...  \n",
       "16     LINESTRING (121.16872 31.36934, 121.16868 31.3...  \n",
       "...                                                  ...  \n",
       "85409  LINESTRING (121.30810 31.25230, 121.31105 31.2...  \n",
       "85410  LINESTRING (121.37199 31.36137, 121.37165 31.3...  \n",
       "85413  LINESTRING (121.22730 31.33499, 121.22729 31.3...  \n",
       "85414  LINESTRING (121.21182 31.26743, 121.21198 31.2...  \n",
       "85415  LINESTRING (121.49710 31.35455, 121.49672 31.3...  \n",
       "\n",
       "[46542 rows x 3 columns]"
      ]
     },
     "execution_count": 11,
     "metadata": {},
     "output_type": "execute_result"
    }
   ],
   "source": [
    "df"
   ]
  },
  {
   "cell_type": "code",
   "execution_count": 12,
   "metadata": {},
   "outputs": [],
   "source": [
    "df.to_pickle(\"pickles/utseus-quiet-roads-cleaned.pk\")"
   ]
  },
  {
   "cell_type": "code",
   "execution_count": 23,
   "metadata": {},
   "outputs": [
    {
     "data": {
      "text/plain": [
       "Index(['orderid', 'bikeid', 'userid', 'start_time', 'start_location_x',\n",
       "       'start_location_y', 'end_time', 'end_location_x', 'end_location_y',\n",
       "       'track'],\n",
       "      dtype='object')"
      ]
     },
     "execution_count": 23,
     "metadata": {},
     "output_type": "execute_result"
    }
   ],
   "source": [
    "df.columns"
   ]
  },
  {
   "cell_type": "code",
   "execution_count": 25,
   "metadata": {},
   "outputs": [
    {
     "data": {
      "text/html": [
       "<div>\n",
       "<style scoped>\n",
       "    .dataframe tbody tr th:only-of-type {\n",
       "        vertical-align: middle;\n",
       "    }\n",
       "\n",
       "    .dataframe tbody tr th {\n",
       "        vertical-align: top;\n",
       "    }\n",
       "\n",
       "    .dataframe thead th {\n",
       "        text-align: right;\n",
       "    }\n",
       "</style>\n",
       "<table border=\"1\" class=\"dataframe\">\n",
       "  <thead>\n",
       "    <tr style=\"text-align: right;\">\n",
       "      <th></th>\n",
       "      <th>start_location_x</th>\n",
       "      <th>start_location_y</th>\n",
       "      <th>end_location_x</th>\n",
       "      <th>end_location_y</th>\n",
       "    </tr>\n",
       "  </thead>\n",
       "  <tbody>\n",
       "    <tr>\n",
       "      <th>0</th>\n",
       "      <td>121.490</td>\n",
       "      <td>31.280</td>\n",
       "      <td>121.486</td>\n",
       "      <td>31.273</td>\n",
       "    </tr>\n",
       "    <tr>\n",
       "      <th>1</th>\n",
       "      <td>121.462</td>\n",
       "      <td>31.313</td>\n",
       "      <td>121.455</td>\n",
       "      <td>31.315</td>\n",
       "    </tr>\n",
       "    <tr>\n",
       "      <th>2</th>\n",
       "      <td>121.416</td>\n",
       "      <td>31.154</td>\n",
       "      <td>121.419</td>\n",
       "      <td>31.156</td>\n",
       "    </tr>\n",
       "    <tr>\n",
       "      <th>3</th>\n",
       "      <td>121.436</td>\n",
       "      <td>31.320</td>\n",
       "      <td>121.444</td>\n",
       "      <td>31.310</td>\n",
       "    </tr>\n",
       "    <tr>\n",
       "      <th>4</th>\n",
       "      <td>121.459</td>\n",
       "      <td>31.325</td>\n",
       "      <td>121.460</td>\n",
       "      <td>31.315</td>\n",
       "    </tr>\n",
       "  </tbody>\n",
       "</table>\n",
       "</div>"
      ],
      "text/plain": [
       "   start_location_x  start_location_y  end_location_x  end_location_y\n",
       "0           121.490            31.280         121.486          31.273\n",
       "1           121.462            31.313         121.455          31.315\n",
       "2           121.416            31.154         121.419          31.156\n",
       "3           121.436            31.320         121.444          31.310\n",
       "4           121.459            31.325         121.460          31.315"
      ]
     },
     "execution_count": 25,
     "metadata": {},
     "output_type": "execute_result"
    }
   ],
   "source": [
    "savedDf = df[['start_location_x', 'start_location_y', 'end_location_x', 'end_location_y',]]\n",
    "savedDf.head()"
   ]
  },
  {
   "cell_type": "code",
   "execution_count": 26,
   "metadata": {},
   "outputs": [],
   "source": [
    "savedDf.to_pickle(\"pickles/utseus-mobike-2016-cleaned.pk\")"
   ]
  },
  {
   "cell_type": "code",
   "execution_count": 19,
   "metadata": {},
   "outputs": [],
   "source": [
    "df.to_csv(\"pickles/TARGET-communities-extract-wellbeing-3params-cleaned.csv\")"
   ]
  },
  {
   "cell_type": "code",
   "execution_count": 17,
   "metadata": {},
   "outputs": [
    {
     "data": {
      "text/html": [
       "<div>\n",
       "<style scoped>\n",
       "    .dataframe tbody tr th:only-of-type {\n",
       "        vertical-align: middle;\n",
       "    }\n",
       "\n",
       "    .dataframe tbody tr th {\n",
       "        vertical-align: top;\n",
       "    }\n",
       "\n",
       "    .dataframe thead th {\n",
       "        text-align: right;\n",
       "    }\n",
       "</style>\n",
       "<table border=\"1\" class=\"dataframe\">\n",
       "  <thead>\n",
       "    <tr style=\"text-align: right;\">\n",
       "      <th></th>\n",
       "      <th></th>\n",
       "      <th>clean</th>\n",
       "      <th>smell</th>\n",
       "      <th>noise</th>\n",
       "      <th>town</th>\n",
       "      <th>district</th>\n",
       "      <th>longitude</th>\n",
       "      <th>latitude</th>\n",
       "    </tr>\n",
       "  </thead>\n",
       "  <tbody>\n",
       "    <tr>\n",
       "      <th>1</th>\n",
       "      <td>万寿社区居委会</td>\n",
       "      <td>3</td>\n",
       "      <td>0.0</td>\n",
       "      <td>0.0</td>\n",
       "      <td>盈浦街道</td>\n",
       "      <td>青浦区</td>\n",
       "      <td>121.104287016932</td>\n",
       "      <td>31.1558823799679</td>\n",
       "    </tr>\n",
       "    <tr>\n",
       "      <th>2</th>\n",
       "      <td>万泰花园第一居委会</td>\n",
       "      <td>3</td>\n",
       "      <td>1.0</td>\n",
       "      <td>0.0</td>\n",
       "      <td>七宝镇</td>\n",
       "      <td>闵行区</td>\n",
       "      <td>121.351529089795</td>\n",
       "      <td>31.144326843509</td>\n",
       "    </tr>\n",
       "    <tr>\n",
       "      <th>3</th>\n",
       "      <td>万科阳光苑居委会</td>\n",
       "      <td>2</td>\n",
       "      <td>0.0</td>\n",
       "      <td>0.0</td>\n",
       "      <td>吴泾镇</td>\n",
       "      <td>闵行区</td>\n",
       "      <td>121.468520387505</td>\n",
       "      <td>31.0422853979528</td>\n",
       "    </tr>\n",
       "    <tr>\n",
       "      <th>4</th>\n",
       "      <td>万豪居委会</td>\n",
       "      <td>3</td>\n",
       "      <td>0.0</td>\n",
       "      <td>0.0</td>\n",
       "      <td>长征镇</td>\n",
       "      <td>普陀区</td>\n",
       "      <td>121.367237458941</td>\n",
       "      <td>31.2407251034807</td>\n",
       "    </tr>\n",
       "    <tr>\n",
       "      <th>5</th>\n",
       "      <td>万里名轩社区居委会</td>\n",
       "      <td>2</td>\n",
       "      <td></td>\n",
       "      <td>0.0</td>\n",
       "      <td>万里街道</td>\n",
       "      <td>普陀区</td>\n",
       "      <td>121.403601417271</td>\n",
       "      <td>31.269155049366</td>\n",
       "    </tr>\n",
       "  </tbody>\n",
       "</table>\n",
       "</div>"
      ],
      "text/plain": [
       "             clean smell noise  town district         longitude  \\\n",
       "1    万寿社区居委会     3   0.0   0.0  盈浦街道      青浦区  121.104287016932   \n",
       "2  万泰花园第一居委会     3   1.0   0.0   七宝镇      闵行区  121.351529089795   \n",
       "3   万科阳光苑居委会     2   0.0   0.0   吴泾镇      闵行区  121.468520387505   \n",
       "4      万豪居委会     3   0.0   0.0   长征镇      普陀区  121.367237458941   \n",
       "5  万里名轩社区居委会     2         0.0  万里街道      普陀区  121.403601417271   \n",
       "\n",
       "           latitude  \n",
       "1  31.1558823799679  \n",
       "2   31.144326843509  \n",
       "3  31.0422853979528  \n",
       "4  31.2407251034807  \n",
       "5   31.269155049366  "
      ]
     },
     "execution_count": 17,
     "metadata": {},
     "output_type": "execute_result"
    }
   ],
   "source": [
    "df.head()"
   ]
  },
  {
   "cell_type": "code",
   "execution_count": 30,
   "metadata": {},
   "outputs": [
    {
     "name": "stdout",
     "output_type": "stream",
     "text": [
      "0\n"
     ]
    },
    {
     "ename": "NameError",
     "evalue": "name 'sleep' is not defined",
     "output_type": "error",
     "traceback": [
      "\u001b[0;31m---------------------------------------------------------------------------\u001b[0m",
      "\u001b[0;31mNameError\u001b[0m                                 Traceback (most recent call last)",
      "\u001b[0;32m<ipython-input-30-1c5a65412b58>\u001b[0m in \u001b[0;36m<module>\u001b[0;34m\u001b[0m\n\u001b[1;32m      2\u001b[0m     \u001b[0mclear_output\u001b[0m\u001b[0;34m(\u001b[0m\u001b[0mwait\u001b[0m\u001b[0;34m=\u001b[0m\u001b[0;32mTrue\u001b[0m\u001b[0;34m)\u001b[0m\u001b[0;34m\u001b[0m\u001b[0;34m\u001b[0m\u001b[0m\n\u001b[1;32m      3\u001b[0m     \u001b[0mprint\u001b[0m\u001b[0;34m(\u001b[0m\u001b[0mi\u001b[0m\u001b[0;34m)\u001b[0m\u001b[0;34m\u001b[0m\u001b[0;34m\u001b[0m\u001b[0m\n\u001b[0;32m----> 4\u001b[0;31m     \u001b[0msleep\u001b[0m\u001b[0;34m(\u001b[0m\u001b[0;36m1\u001b[0m\u001b[0;34m)\u001b[0m\u001b[0;34m\u001b[0m\u001b[0;34m\u001b[0m\u001b[0m\n\u001b[0m",
      "\u001b[0;31mNameError\u001b[0m: name 'sleep' is not defined"
     ]
    }
   ],
   "source": [
    "for i in range(10) :\n",
    "    clear_output(wait=True)\n",
    "    print(i)"
   ]
  },
  {
   "cell_type": "code",
   "execution_count": 27,
   "metadata": {},
   "outputs": [],
   "source": [
    "from IPython.display import clear_output"
   ]
  },
  {
   "cell_type": "code",
   "execution_count": 13,
   "metadata": {},
   "outputs": [
    {
     "ename": "UnicodeDecodeError",
     "evalue": "'utf-8' codec can't decode byte 0x80 in position 0: invalid start byte",
     "output_type": "error",
     "traceback": [
      "\u001b[0;31m---------------------------------------------------------------------------\u001b[0m",
      "\u001b[0;31mUnicodeDecodeError\u001b[0m                        Traceback (most recent call last)",
      "\u001b[0;32m<ipython-input-13-d117fea3861f>\u001b[0m in \u001b[0;36m<module>\u001b[0;34m\u001b[0m\n\u001b[0;32m----> 1\u001b[0;31m \u001b[0mdf\u001b[0m \u001b[0;34m=\u001b[0m \u001b[0mpd\u001b[0m\u001b[0;34m.\u001b[0m\u001b[0mread_csv\u001b[0m\u001b[0;34m(\u001b[0m\u001b[0;34m\"pickles/utseus-shanghai-taxi-speed-position-cleaned-new.csv\"\u001b[0m\u001b[0;34m)\u001b[0m\u001b[0;34m\u001b[0m\u001b[0;34m\u001b[0m\u001b[0m\n\u001b[0m\u001b[1;32m      2\u001b[0m \u001b[0mdf\u001b[0m\u001b[0;34m.\u001b[0m\u001b[0mhead\u001b[0m\u001b[0;34m(\u001b[0m\u001b[0;34m)\u001b[0m\u001b[0;34m\u001b[0m\u001b[0;34m\u001b[0m\u001b[0m\n",
      "\u001b[0;32m/usr/lib/python3.8/site-packages/pandas/io/parsers.py\u001b[0m in \u001b[0;36mparser_f\u001b[0;34m(filepath_or_buffer, sep, delimiter, header, names, index_col, usecols, squeeze, prefix, mangle_dupe_cols, dtype, engine, converters, true_values, false_values, skipinitialspace, skiprows, skipfooter, nrows, na_values, keep_default_na, na_filter, verbose, skip_blank_lines, parse_dates, infer_datetime_format, keep_date_col, date_parser, dayfirst, cache_dates, iterator, chunksize, compression, thousands, decimal, lineterminator, quotechar, quoting, doublequote, escapechar, comment, encoding, dialect, error_bad_lines, warn_bad_lines, delim_whitespace, low_memory, memory_map, float_precision)\u001b[0m\n\u001b[1;32m    683\u001b[0m         )\n\u001b[1;32m    684\u001b[0m \u001b[0;34m\u001b[0m\u001b[0m\n\u001b[0;32m--> 685\u001b[0;31m         \u001b[0;32mreturn\u001b[0m \u001b[0m_read\u001b[0m\u001b[0;34m(\u001b[0m\u001b[0mfilepath_or_buffer\u001b[0m\u001b[0;34m,\u001b[0m \u001b[0mkwds\u001b[0m\u001b[0;34m)\u001b[0m\u001b[0;34m\u001b[0m\u001b[0;34m\u001b[0m\u001b[0m\n\u001b[0m\u001b[1;32m    686\u001b[0m \u001b[0;34m\u001b[0m\u001b[0m\n\u001b[1;32m    687\u001b[0m     \u001b[0mparser_f\u001b[0m\u001b[0;34m.\u001b[0m\u001b[0m__name__\u001b[0m \u001b[0;34m=\u001b[0m \u001b[0mname\u001b[0m\u001b[0;34m\u001b[0m\u001b[0;34m\u001b[0m\u001b[0m\n",
      "\u001b[0;32m/usr/lib/python3.8/site-packages/pandas/io/parsers.py\u001b[0m in \u001b[0;36m_read\u001b[0;34m(filepath_or_buffer, kwds)\u001b[0m\n\u001b[1;32m    455\u001b[0m \u001b[0;34m\u001b[0m\u001b[0m\n\u001b[1;32m    456\u001b[0m     \u001b[0;31m# Create the parser.\u001b[0m\u001b[0;34m\u001b[0m\u001b[0;34m\u001b[0m\u001b[0;34m\u001b[0m\u001b[0m\n\u001b[0;32m--> 457\u001b[0;31m     \u001b[0mparser\u001b[0m \u001b[0;34m=\u001b[0m \u001b[0mTextFileReader\u001b[0m\u001b[0;34m(\u001b[0m\u001b[0mfp_or_buf\u001b[0m\u001b[0;34m,\u001b[0m \u001b[0;34m**\u001b[0m\u001b[0mkwds\u001b[0m\u001b[0;34m)\u001b[0m\u001b[0;34m\u001b[0m\u001b[0;34m\u001b[0m\u001b[0m\n\u001b[0m\u001b[1;32m    458\u001b[0m \u001b[0;34m\u001b[0m\u001b[0m\n\u001b[1;32m    459\u001b[0m     \u001b[0;32mif\u001b[0m \u001b[0mchunksize\u001b[0m \u001b[0;32mor\u001b[0m \u001b[0miterator\u001b[0m\u001b[0;34m:\u001b[0m\u001b[0;34m\u001b[0m\u001b[0;34m\u001b[0m\u001b[0m\n",
      "\u001b[0;32m/usr/lib/python3.8/site-packages/pandas/io/parsers.py\u001b[0m in \u001b[0;36m__init__\u001b[0;34m(self, f, engine, **kwds)\u001b[0m\n\u001b[1;32m    893\u001b[0m             \u001b[0mself\u001b[0m\u001b[0;34m.\u001b[0m\u001b[0moptions\u001b[0m\u001b[0;34m[\u001b[0m\u001b[0;34m\"has_index_names\"\u001b[0m\u001b[0;34m]\u001b[0m \u001b[0;34m=\u001b[0m \u001b[0mkwds\u001b[0m\u001b[0;34m[\u001b[0m\u001b[0;34m\"has_index_names\"\u001b[0m\u001b[0;34m]\u001b[0m\u001b[0;34m\u001b[0m\u001b[0;34m\u001b[0m\u001b[0m\n\u001b[1;32m    894\u001b[0m \u001b[0;34m\u001b[0m\u001b[0m\n\u001b[0;32m--> 895\u001b[0;31m         \u001b[0mself\u001b[0m\u001b[0;34m.\u001b[0m\u001b[0m_make_engine\u001b[0m\u001b[0;34m(\u001b[0m\u001b[0mself\u001b[0m\u001b[0;34m.\u001b[0m\u001b[0mengine\u001b[0m\u001b[0;34m)\u001b[0m\u001b[0;34m\u001b[0m\u001b[0;34m\u001b[0m\u001b[0m\n\u001b[0m\u001b[1;32m    896\u001b[0m \u001b[0;34m\u001b[0m\u001b[0m\n\u001b[1;32m    897\u001b[0m     \u001b[0;32mdef\u001b[0m \u001b[0mclose\u001b[0m\u001b[0;34m(\u001b[0m\u001b[0mself\u001b[0m\u001b[0;34m)\u001b[0m\u001b[0;34m:\u001b[0m\u001b[0;34m\u001b[0m\u001b[0;34m\u001b[0m\u001b[0m\n",
      "\u001b[0;32m/usr/lib/python3.8/site-packages/pandas/io/parsers.py\u001b[0m in \u001b[0;36m_make_engine\u001b[0;34m(self, engine)\u001b[0m\n\u001b[1;32m   1133\u001b[0m     \u001b[0;32mdef\u001b[0m \u001b[0m_make_engine\u001b[0m\u001b[0;34m(\u001b[0m\u001b[0mself\u001b[0m\u001b[0;34m,\u001b[0m \u001b[0mengine\u001b[0m\u001b[0;34m=\u001b[0m\u001b[0;34m\"c\"\u001b[0m\u001b[0;34m)\u001b[0m\u001b[0;34m:\u001b[0m\u001b[0;34m\u001b[0m\u001b[0;34m\u001b[0m\u001b[0m\n\u001b[1;32m   1134\u001b[0m         \u001b[0;32mif\u001b[0m \u001b[0mengine\u001b[0m \u001b[0;34m==\u001b[0m \u001b[0;34m\"c\"\u001b[0m\u001b[0;34m:\u001b[0m\u001b[0;34m\u001b[0m\u001b[0;34m\u001b[0m\u001b[0m\n\u001b[0;32m-> 1135\u001b[0;31m             \u001b[0mself\u001b[0m\u001b[0;34m.\u001b[0m\u001b[0m_engine\u001b[0m \u001b[0;34m=\u001b[0m \u001b[0mCParserWrapper\u001b[0m\u001b[0;34m(\u001b[0m\u001b[0mself\u001b[0m\u001b[0;34m.\u001b[0m\u001b[0mf\u001b[0m\u001b[0;34m,\u001b[0m \u001b[0;34m**\u001b[0m\u001b[0mself\u001b[0m\u001b[0;34m.\u001b[0m\u001b[0moptions\u001b[0m\u001b[0;34m)\u001b[0m\u001b[0;34m\u001b[0m\u001b[0;34m\u001b[0m\u001b[0m\n\u001b[0m\u001b[1;32m   1136\u001b[0m         \u001b[0;32melse\u001b[0m\u001b[0;34m:\u001b[0m\u001b[0;34m\u001b[0m\u001b[0;34m\u001b[0m\u001b[0m\n\u001b[1;32m   1137\u001b[0m             \u001b[0;32mif\u001b[0m \u001b[0mengine\u001b[0m \u001b[0;34m==\u001b[0m \u001b[0;34m\"python\"\u001b[0m\u001b[0;34m:\u001b[0m\u001b[0;34m\u001b[0m\u001b[0;34m\u001b[0m\u001b[0m\n",
      "\u001b[0;32m/usr/lib/python3.8/site-packages/pandas/io/parsers.py\u001b[0m in \u001b[0;36m__init__\u001b[0;34m(self, src, **kwds)\u001b[0m\n\u001b[1;32m   1915\u001b[0m         \u001b[0mkwds\u001b[0m\u001b[0;34m[\u001b[0m\u001b[0;34m\"usecols\"\u001b[0m\u001b[0;34m]\u001b[0m \u001b[0;34m=\u001b[0m \u001b[0mself\u001b[0m\u001b[0;34m.\u001b[0m\u001b[0musecols\u001b[0m\u001b[0;34m\u001b[0m\u001b[0;34m\u001b[0m\u001b[0m\n\u001b[1;32m   1916\u001b[0m \u001b[0;34m\u001b[0m\u001b[0m\n\u001b[0;32m-> 1917\u001b[0;31m         \u001b[0mself\u001b[0m\u001b[0;34m.\u001b[0m\u001b[0m_reader\u001b[0m \u001b[0;34m=\u001b[0m \u001b[0mparsers\u001b[0m\u001b[0;34m.\u001b[0m\u001b[0mTextReader\u001b[0m\u001b[0;34m(\u001b[0m\u001b[0msrc\u001b[0m\u001b[0;34m,\u001b[0m \u001b[0;34m**\u001b[0m\u001b[0mkwds\u001b[0m\u001b[0;34m)\u001b[0m\u001b[0;34m\u001b[0m\u001b[0;34m\u001b[0m\u001b[0m\n\u001b[0m\u001b[1;32m   1918\u001b[0m         \u001b[0mself\u001b[0m\u001b[0;34m.\u001b[0m\u001b[0munnamed_cols\u001b[0m \u001b[0;34m=\u001b[0m \u001b[0mself\u001b[0m\u001b[0;34m.\u001b[0m\u001b[0m_reader\u001b[0m\u001b[0;34m.\u001b[0m\u001b[0munnamed_cols\u001b[0m\u001b[0;34m\u001b[0m\u001b[0;34m\u001b[0m\u001b[0m\n\u001b[1;32m   1919\u001b[0m \u001b[0;34m\u001b[0m\u001b[0m\n",
      "\u001b[0;32mpandas/_libs/parsers.pyx\u001b[0m in \u001b[0;36mpandas._libs.parsers.TextReader.__cinit__\u001b[0;34m()\u001b[0m\n",
      "\u001b[0;32mpandas/_libs/parsers.pyx\u001b[0m in \u001b[0;36mpandas._libs.parsers.TextReader._get_header\u001b[0;34m()\u001b[0m\n",
      "\u001b[0;31mUnicodeDecodeError\u001b[0m: 'utf-8' codec can't decode byte 0x80 in position 0: invalid start byte"
     ]
    }
   ],
   "source": [
    "df.to_pickle(\"pickles/utseus-shanghai-taxi-speed-position-cleaned-new.csv\")"
   ]
  },
  {
   "cell_type": "code",
   "execution_count": 11,
   "metadata": {},
   "outputs": [],
   "source": [
    "df = 0"
   ]
  },
  {
   "cell_type": "code",
   "execution_count": null,
   "metadata": {},
   "outputs": [],
   "source": []
  }
 ],
 "metadata": {
  "kernelspec": {
   "display_name": "Python 3",
   "language": "python",
   "name": "python3"
  },
  "language_info": {
   "codemirror_mode": {
    "name": "ipython",
    "version": 3
   },
   "file_extension": ".py",
   "mimetype": "text/x-python",
   "name": "python",
   "nbconvert_exporter": "python",
   "pygments_lexer": "ipython3",
   "version": "3.8.1"
  }
 },
 "nbformat": 4,
 "nbformat_minor": 4
}
