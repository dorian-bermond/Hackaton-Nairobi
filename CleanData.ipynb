{
 "cells": [
  {
   "cell_type": "markdown",
   "metadata": {},
   "source": [
    "# Read data (pickle files) / Lire les donnees (fichiers pickle)"
   ]
  },
  {
   "cell_type": "markdown",
   "metadata": {},
   "source": [
    "## 1. Import needed function / Import des fonctions necessaires"
   ]
  },
  {
   "cell_type": "code",
   "execution_count": 96,
   "metadata": {},
   "outputs": [],
   "source": [
    "import pandas as pd\n",
    "import matplotlib.pyplot as plt"
   ]
  },
  {
   "cell_type": "markdown",
   "metadata": {},
   "source": [
    "## 2. Get the data / Recuperation des donnees"
   ]
  },
  {
   "cell_type": "code",
   "execution_count": 130,
   "metadata": {},
   "outputs": [],
   "source": [
    "# Shanghai Boundaries\n",
    "shanghaMinLongitude = 121.10157 ;\n",
    "shanghaMaxLongitude = 121.804611 ;\n",
    "shanghaMinLatitude = 30.975 ;\n",
    "shanghaMaxLatitude = 31.514999 ;"
   ]
  },
  {
   "cell_type": "code",
   "execution_count": 130,
   "metadata": {},
   "outputs": [
    {
     "data": {
      "text/html": [
       "<div>\n",
       "<style scoped>\n",
       "    .dataframe tbody tr th:only-of-type {\n",
       "        vertical-align: middle;\n",
       "    }\n",
       "\n",
       "    .dataframe tbody tr th {\n",
       "        vertical-align: top;\n",
       "    }\n",
       "\n",
       "    .dataframe thead th {\n",
       "        text-align: right;\n",
       "    }\n",
       "</style>\n",
       "<table border=\"1\" class=\"dataframe\">\n",
       "  <thead>\n",
       "    <tr style=\"text-align: right;\">\n",
       "      <th></th>\n",
       "      <th>quietness</th>\n",
       "      <th>distance</th>\n",
       "      <th>geometry</th>\n",
       "    </tr>\n",
       "  </thead>\n",
       "  <tbody>\n",
       "    <tr>\n",
       "      <th>0</th>\n",
       "      <td>0.101105</td>\n",
       "      <td>30.081160</td>\n",
       "      <td>LINESTRING (121.56385 29.82884, 121.56384 29.8...</td>\n",
       "    </tr>\n",
       "    <tr>\n",
       "      <th>1</th>\n",
       "      <td>0.099379</td>\n",
       "      <td>363.090546</td>\n",
       "      <td>LINESTRING (121.56385 29.82884, 121.56364 29.8...</td>\n",
       "    </tr>\n",
       "    <tr>\n",
       "      <th>2</th>\n",
       "      <td>0.099379</td>\n",
       "      <td>12.700058</td>\n",
       "      <td>LINESTRING (121.56398 29.82885, 121.56385 29.8...</td>\n",
       "    </tr>\n",
       "    <tr>\n",
       "      <th>3</th>\n",
       "      <td>0.101105</td>\n",
       "      <td>95.892204</td>\n",
       "      <td>LINESTRING (121.56391 29.82970, 121.56386 29.8...</td>\n",
       "    </tr>\n",
       "    <tr>\n",
       "      <th>4</th>\n",
       "      <td>-10.000000</td>\n",
       "      <td>561.564880</td>\n",
       "      <td>LINESTRING (121.53612 29.78676, 121.53969 29.7...</td>\n",
       "    </tr>\n",
       "  </tbody>\n",
       "</table>\n",
       "</div>"
      ],
      "text/plain": [
       "   quietness    distance                                           geometry\n",
       "0   0.101105   30.081160  LINESTRING (121.56385 29.82884, 121.56384 29.8...\n",
       "1   0.099379  363.090546  LINESTRING (121.56385 29.82884, 121.56364 29.8...\n",
       "2   0.099379   12.700058  LINESTRING (121.56398 29.82885, 121.56385 29.8...\n",
       "3   0.101105   95.892204  LINESTRING (121.56391 29.82970, 121.56386 29.8...\n",
       "4 -10.000000  561.564880  LINESTRING (121.53612 29.78676, 121.53969 29.7..."
      ]
     },
     "execution_count": 130,
     "metadata": {},
     "output_type": "execute_result"
    }
   ],
   "source": [
    "path = \"pickles/utseus-quiet-roads.pk\" # Path of the pickle file / Chemin du fichier pickle\n",
    "df = pd.read_pickle(path) # Get the data / recupere les donnees\n",
    "if (type(df) == list) :\n",
    "    df = pd.DataFrame(data = df, columns = df[0]) \n",
    "    df = df.drop(df.index[0])\n",
    "df.head() # Print first pieces of data / Affiche les premiere donnees"
   ]
  },
  {
   "cell_type": "markdown",
   "metadata": {},
   "source": [
    "## 3. Clear Data"
   ]
  },
  {
   "cell_type": "markdown",
   "metadata": {},
   "source": [
    "### 3.1 Basic clear / Nettoyage basique "
   ]
  },
  {
   "cell_type": "code",
   "execution_count": 72,
   "metadata": {},
   "outputs": [],
   "source": [
    "\"\"\"\n",
    "def tryToDrop(dfName, function, criticalDropSizePercentage) :\n",
    "    dfSize = exec(dfName + \".size\")\n",
    "    droppedDf = exec(dfName + function)\n",
    "    if(droppedDf.empty) :\n",
    "        droppedSize = 0\n",
    "    else :\n",
    "        droppedSize = droppedDf.size\n",
    "    droppedSizePercentage = 100 * (dfSize - droppedDfSize) / dfSize\n",
    "    if (droppedSizePercentage < criticalDropSizePercentage) :\n",
    "        exec(dfName + \"= droppedDf\")\n",
    "    else :\n",
    "        answer = '0'\n",
    "        while (answer not in {'y','n'}) :\n",
    "            print(\"Trying to drop \" + str(int(droppedSizePercentage)) + \"% (\" + str(dfSize - droppedSize) +\") values.\")\n",
    "            answer = input(\"Are you sure ? [Y/N]\").lower()\n",
    "        if (answer == 'y') :\n",
    "            exec(dfName + \"= droppedDf\")\n",
    "\"\"\""
   ]
  },
  {
   "cell_type": "code",
   "execution_count": 114,
   "metadata": {},
   "outputs": [],
   "source": [
    "# Variables / Variables\n",
    "criticalDropSizePercentage = 2 # Minimal removed size triggering a warning\n",
    "initialSize = df.size\n",
    "# Funtions / Fonctions\n",
    "    # Delete every row that contains NaN (Not a Number) / Enleve toutes les lignes contenant NaN (Not a Number)\n",
    "tempDf = df.dropna() \n",
    "droppedSize = initialSize - tempDf.size\n",
    "droppedSizePercentage = 100 * droppedSize / initialSize\n",
    "if (droppedSizePercentage < criticalDropSizePercentage) :\n",
    "    df = tempDf\n",
    "    print(droppedSizePercentage + \"% (\" + droppedSize + \") values removed.\")\n",
    "else : \n",
    "    answer = '0'\n",
    "    while (answer not in {'y','n'}) :\n",
    "        print(\"Trying to drop \" + str(int(droppedSizePercentage)) + \"% (\" + droppedSize +\") values.\")\n",
    "        answer = input(\"Are you sure ? [Y/N]\").lower()\n",
    "    if (answer == 'y') :\n",
    "        df = tempDf \n",
    "        print(droppedSizePercentage + \"% (\" + droppedSize + \") values removed.\")"
   ]
  },
  {
   "cell_type": "markdown",
   "metadata": {},
   "source": [
    "## 3.1.0 Remove empty string"
   ]
  },
  {
   "cell_type": "code",
   "execution_count": 98,
   "metadata": {},
   "outputs": [
    {
     "ename": "NameError",
     "evalue": "name 'intialSize' is not defined",
     "output_type": "error",
     "traceback": [
      "\u001b[0;31m---------------------------------------------------------------------------\u001b[0m",
      "\u001b[0;31mNameError\u001b[0m                                 Traceback (most recent call last)",
      "\u001b[0;32m<ipython-input-98-91dd6133767f>\u001b[0m in \u001b[0;36m<module>\u001b[0;34m\u001b[0m\n\u001b[1;32m      5\u001b[0m     \u001b[0;31m# Delete every row that contains NaN (Not a Number) / Enleve toutes les lignes contenant NaN (Not a Number)\u001b[0m\u001b[0;34m\u001b[0m\u001b[0;34m\u001b[0m\u001b[0;34m\u001b[0m\u001b[0m\n\u001b[1;32m      6\u001b[0m \u001b[0mtempDf\u001b[0m \u001b[0;34m=\u001b[0m \u001b[0mdf\u001b[0m\u001b[0;34m.\u001b[0m\u001b[0mdropna\u001b[0m\u001b[0;34m(\u001b[0m\u001b[0;34m)\u001b[0m\u001b[0;34m\u001b[0m\u001b[0;34m\u001b[0m\u001b[0m\n\u001b[0;32m----> 7\u001b[0;31m \u001b[0mdroppedSize\u001b[0m \u001b[0;34m=\u001b[0m \u001b[0mintialSize\u001b[0m \u001b[0;34m-\u001b[0m \u001b[0mtempDf\u001b[0m\u001b[0;34m.\u001b[0m\u001b[0msize\u001b[0m\u001b[0;34m\u001b[0m\u001b[0;34m\u001b[0m\u001b[0m\n\u001b[0m\u001b[1;32m      8\u001b[0m \u001b[0mdroppedSizePercentage\u001b[0m \u001b[0;34m=\u001b[0m \u001b[0;36m100\u001b[0m \u001b[0;34m*\u001b[0m \u001b[0mdroppedSize\u001b[0m \u001b[0;34m/\u001b[0m \u001b[0minitialSize\u001b[0m\u001b[0;34m\u001b[0m\u001b[0;34m\u001b[0m\u001b[0m\n\u001b[1;32m      9\u001b[0m \u001b[0;32mif\u001b[0m \u001b[0;34m(\u001b[0m\u001b[0mdroppedSizePercentage\u001b[0m \u001b[0;34m<\u001b[0m \u001b[0mcriticalDropSizePercentage\u001b[0m\u001b[0;34m)\u001b[0m \u001b[0;34m:\u001b[0m\u001b[0;34m\u001b[0m\u001b[0;34m\u001b[0m\u001b[0m\n",
      "\u001b[0;31mNameError\u001b[0m: name 'intialSize' is not defined"
     ]
    }
   ],
   "source": [
    "# Variables / Variables\n",
    "initialSize = df.size\n",
    "column = \"avg_rating\" # Column name / Nom de la colonne\n",
    "    # Delete every row where value is a void string / Enleve toutes les lignes ou la valeur est une chaine de caracteres vide\n",
    "tempDf = df[df[column] != \"\"] \n",
    "droppedSize = initialSize - tempDf.size\n",
    "droppedSizePercentage = 100 * droppedSize / initialSize\n",
    "if (droppedSizePercentage < criticalDropSizePercentage) :\n",
    "    df = tempDf\n",
    "    print(droppedSizePercentage + \"% (\" + droppedSize + \") values removed.\")\n",
    "else : \n",
    "    answer = '0'\n",
    "    while (answer not in {'y','n'}) :\n",
    "        print(\"Trying to drop \" + str(int(droppedSizePercentage)) + \"% (\" + droppedSize +\") values.\")\n",
    "        answer = input(\"Are you sure ? [Y/N]\").lower()\n",
    "    if (answer == 'y') :\n",
    "        df = tempDf \n",
    "        print(droppedSizePercentage + \"% (\" + droppedSize + \") values removed.\")\n",
    "\n",
    "tempDf = 0"
   ]
  },
  {
   "cell_type": "markdown",
   "metadata": {},
   "source": [
    "### 3.2 Equal to ... / Egal à ..."
   ]
  },
  {
   "cell_type": "code",
   "execution_count": null,
   "metadata": {},
   "outputs": [],
   "source": [
    "# Variables / Variables\n",
    "column = \"avg_rating\" # Column name / Nom de la colonne\n",
    "initialSize = df.size\n",
    "value = 0 # Compared value / Valeur comparee\n",
    "# Funtions / Fonctions\n",
    "    # Delete every row that contains NaN (Not a Number) / Enleve toutes les lignes contenant NaN (Not a Number)\n",
    "tempDf = df[df[column] != value] \n",
    "droppedSize = initialSize - tempDf.size\n",
    "droppedSizePercentage = 100 * droppedSize / initialSize\n",
    "if (droppedSizePercentage < criticalDropSizePercentage) :\n",
    "    df = tempDf\n",
    "    print(droppedSizePercentage + \"% (\" + droppedSize + \") values removed.\")\n",
    "else : \n",
    "    answer = '0'\n",
    "    while (answer not in {'y','n'}) :\n",
    "        print(\"Trying to drop \" + str(int(droppedSizePercentage)) + \"% (\" + droppedSize +\") values.\")\n",
    "        answer = input(\"Are you sure ? [Y/N]\").lower()\n",
    "    if (answer == 'y') :\n",
    "        df = tempDf \n",
    "        print(droppedSizePercentage + \"% (\" + droppedSize + \") values removed.\")\n",
    "        \n",
    "tempDf = 0"
   ]
  },
  {
   "cell_type": "markdown",
   "metadata": {},
   "source": [
    "### 3.3 Different than ... / Different de ..."
   ]
  },
  {
   "cell_type": "code",
   "execution_count": null,
   "metadata": {},
   "outputs": [],
   "source": [
    "# Variables / Variables\n",
    "column = \"avg_rating\" # Column name / Nom de la colonne\n",
    "initialSize = df.size\n",
    "value = 0 # Compared value / Valeur comparee\n",
    "# Funtions / Fonctions\n",
    "    # Delete every row that contains NaN (Not a Number) / Enleve toutes les lignes contenant NaN (Not a Number)\n",
    "tempDf = df[df[column] == value] \n",
    "droppedSize = initialSize - tempDf.size\n",
    "droppedSizePercentage = 100 * droppedSize / initialSize\n",
    "if (droppedSizePercentage < criticalDropSizePercentage) :\n",
    "    df = tempDf\n",
    "    print(droppedSizePercentage + \"% (\" + droppedSize + \") values removed.\")\n",
    "else : \n",
    "    answer = '0'\n",
    "    while (answer not in {'y','n'}) :\n",
    "        print(\"Trying to drop \" + str(int(droppedSizePercentage)) + \"% (\" + droppedSize +\") values.\")\n",
    "        answer = input(\"Are you sure ? [Y/N]\").lower()\n",
    "    if (answer == 'y') :\n",
    "        df = tempDf \n",
    "        print(droppedSizePercentage + \"% (\" + droppedSize + \") values removed.\")\n",
    "        \n",
    "tempDf = 0"
   ]
  },
  {
   "cell_type": "markdown",
   "metadata": {},
   "source": [
    "### 3.4 Between ... and ... / Entre ... et ..."
   ]
  },
  {
   "cell_type": "code",
   "execution_count": null,
   "metadata": {},
   "outputs": [],
   "source": [
    "# Variables / Variables\n",
    "column = \"avg_rating\" # Column name / Nom de la colonne\n",
    "minValue = 0 # Lower border / Borne inferieure\n",
    "maxValue = 0 # Higher border / Borne superieure\n",
    "initialSize = df.size \n",
    "# Funtions / Fonctions\n",
    "    # Delete every row that contains NaN (Not a Number) / Enleve toutes les lignes contenant NaN (Not a Number)\n",
    "tempDf = df[(df[column] < minValue) & (df[column] > maxValue)] \n",
    "droppedSize = initialSize - tempDf.size\n",
    "droppedSizePercentage = 100 * droppedSize / initialSize\n",
    "if (droppedSizePercentage < criticalDropSizePercentage) :\n",
    "    df = tempDf\n",
    "    print(droppedSizePercentage + \"% (\" + droppedSize + \") values removed.\")\n",
    "else : \n",
    "    answer = '0'\n",
    "    while (answer not in {'y','n'}) :\n",
    "        print(\"Trying to drop \" + str(int(droppedSizePercentage)) + \"% (\" + droppedSize +\") values.\")\n",
    "        answer = input(\"Are you sure ? [Y/N]\").lower()\n",
    "    if (answer == 'y') :\n",
    "        df = tempDf \n",
    "        print(droppedSizePercentage + \"% (\" + droppedSize + \") values removed.\")\n",
    "        \n",
    "tempDf = 0"
   ]
  },
  {
   "cell_type": "markdown",
   "metadata": {},
   "source": [
    "### 3.5 Not between ... and ... / A l'exterieur de ... et ..."
   ]
  },
  {
   "cell_type": "code",
   "execution_count": null,
   "metadata": {},
   "outputs": [],
   "source": [
    "# Variables / Variables\n",
    "column = \"avg_rating\" # Column name / Nom de la colonne\n",
    "minValue = 0 # Lower border / Borne inferieure\n",
    "maxValue = 0 # Higher border / Borne superieure\n",
    "initialSize = df.size \n",
    "# Funtions / Fonctions\n",
    "    # Delete every row that contains NaN (Not a Number) / Enleve toutes les lignes contenant NaN (Not a Number)\n",
    "tempDf = df[(df[column] >= minValue) | (df[column] =< maxValue)] \n",
    "droppedSize = initialSize - tempDf.size\n",
    "droppedSizePercentage = 100 * droppedSize / initialSize\n",
    "if (droppedSizePercentage < criticalDropSizePercentage) :\n",
    "    df = tempDf\n",
    "    print(droppedSizePercentage + \"% (\" + droppedSize + \") values removed.\")\n",
    "else : \n",
    "    answer = '0'\n",
    "    while (answer not in {'y','n'}) :\n",
    "        print(\"Trying to drop \" + str(int(droppedSizePercentage)) + \"% (\" + droppedSize +\") values.\")\n",
    "        answer = input(\"Are you sure ? [Y/N]\").lower()\n",
    "    if (answer == 'y') :\n",
    "        df = tempDf \n",
    "        print(droppedSizePercentage + \"% (\" + droppedSize + \") values removed.\")\n",
    "        \n",
    "tempDf = 0"
   ]
  },
  {
   "cell_type": "markdown",
   "metadata": {},
   "source": [
    "### 3.6 Greater than ... / Superieur a ..."
   ]
  },
  {
   "cell_type": "code",
   "execution_count": 123,
   "metadata": {},
   "outputs": [],
   "source": [
    "# Variables / Variables\n",
    "column = \"distance\" # Column name / Nom de la colonne\n",
    "initialSize = df.size\n",
    "value = 8000 # Compared value / Valeur comparee\n",
    "# Funtions / Fonctions\n",
    "    # Delete every row that contains NaN (Not a Number) / Enleve toutes les lignes contenant NaN (Not a Number)\n",
    "tempDf = df[df[column] <= value] \n",
    "droppedSize = initialSize - tempDf.size\n",
    "droppedSizePercentage = 100 * droppedSize / initialSize\n",
    "if (droppedSizePercentage < criticalDropSizePercentage) :\n",
    "    df = tempDf\n",
    "    print(droppedSizePercentage + \"% (\" + droppedSize + \") values removed.\")\n",
    "else : \n",
    "    answer = '0'\n",
    "    while (answer not in {'y','n'}) :\n",
    "        print(\"Trying to drop \" + str(int(droppedSizePercentage)) + \"% (\" + str(droppedSize) +\") values.\")\n",
    "        answer = input(\"Are you sure ? [Y/N]\").lower()\n",
    "    if (answer == 'y') :\n",
    "        df = tempDf \n",
    "        print(droppedSizePercentage + \"% (\" + droppedSize + \") values removed.\")\n",
    "        \n",
    "tempDf = 0"
   ]
  },
  {
   "cell_type": "markdown",
   "metadata": {},
   "source": [
    "### 3.7 Lower than ... / Inferieur a ..."
   ]
  },
  {
   "cell_type": "code",
   "execution_count": null,
   "metadata": {},
   "outputs": [],
   "source": [
    "# Variables / Variables\n",
    "column = \"avg_rating\" # Column name / Nom de la colonne\n",
    "initialSize = df.size\n",
    "value = 0 # Compared value / Valeur comparee\n",
    "# Funtions / Fonctions\n",
    "    # Delete every row that contains NaN (Not a Number) / Enleve toutes les lignes contenant NaN (Not a Number)\n",
    "tempDf = df[df[column] <= value] \n",
    "droppedSize = initialSize - tempDf.size\n",
    "droppedSizePercentage = 100 * droppedSize / initialSize\n",
    "if (droppedSizePercentage < criticalDropSizePercentage) :\n",
    "    df = tempDf\n",
    "    initialSize = df.size\n",
    "else : \n",
    "    answer = '0'\n",
    "    while (answer not in {'y','n'}) :\n",
    "        print(\"Trying to drop \" + str(int(droppedSizePercentage)) + \"% (\" + droppedSize +\") values.\")\n",
    "        answer = input(\"Are you sure ? [Y/N]\").lower()\n",
    "    if (answer == 'y') :\n",
    "        df = tempDf \n",
    "        initialSize = df.size"
   ]
  },
  {
   "cell_type": "markdown",
   "metadata": {},
   "source": [
    "## 4. Test on data / Test sur les donnees"
   ]
  },
  {
   "cell_type": "markdown",
   "metadata": {},
   "source": [
    "### 4.1 Basic statistics / Statistiques basiques"
   ]
  },
  {
   "cell_type": "code",
   "execution_count": 101,
   "metadata": {},
   "outputs": [
    {
     "name": "stdout",
     "output_type": "stream",
     "text": [
      "Mean / Moyenne = 20311.22107823722\n",
      "Median / Mediane = 149.9152145385\n",
      "10% values / 10% values = 16.63956069945\n",
      "90% values / 90% values = 16.63956069945\n",
      "Strandard deviation / Ecart type = 577410.3992324881\n",
      "Minimum / Minimum = 0.0\n",
      "Maximum / Maximum = 63716916.0\n"
     ]
    }
   ],
   "source": [
    "# Variables / Variables\n",
    "column = \"distance\" # Column Name / Nom de la colonne\n",
    "# Functions / Fonctions\n",
    "print(\"Mean / Moyenne = \" + str(df[[column]].mean(axis=0).values[0]))\n",
    "print(\"Median / Mediane = \" + str(df[[column]].median(axis=0).values[0]))\n",
    "print(\"10% values / 10% values = \" + str(df[[column]].quantile(0.1, axis=0).values[0]))\n",
    "print(\"90% values / 90% values = \" + str(df[[column]].quantile(0.1, axis=0).values[0]))\n",
    "print(\"Strandard deviation / Ecart type = \" + str(df[[column]].std(axis=0).values[0]))\n",
    "print(\"Minimum / Minimum = \" + str(df[[column]].min(axis=0).values[0]))\n",
    "print(\"Maximum / Maximum = \" + str(df[[column]].max(axis=0).values[0]))"
   ]
  },
  {
   "cell_type": "markdown",
   "metadata": {},
   "source": [
    "### 4.2 Equal to ... / Egal a ..."
   ]
  },
  {
   "cell_type": "code",
   "execution_count": 48,
   "metadata": {},
   "outputs": [
    {
     "name": "stdout",
     "output_type": "stream",
     "text": [
      "Amount of values / Nombre de valeurs = 3894858 / 6651720 (~ 58%)\n"
     ]
    },
    {
     "data": {
      "text/html": [
       "<div>\n",
       "<style scoped>\n",
       "    .dataframe tbody tr th:only-of-type {\n",
       "        vertical-align: middle;\n",
       "    }\n",
       "\n",
       "    .dataframe tbody tr th {\n",
       "        vertical-align: top;\n",
       "    }\n",
       "\n",
       "    .dataframe thead th {\n",
       "        text-align: right;\n",
       "    }\n",
       "</style>\n",
       "<table border=\"1\" class=\"dataframe\">\n",
       "  <thead>\n",
       "    <tr style=\"text-align: right;\">\n",
       "      <th></th>\n",
       "      <th>name</th>\n",
       "      <th>branch_name</th>\n",
       "      <th>address</th>\n",
       "      <th>telephone</th>\n",
       "      <th>city</th>\n",
       "      <th>latitude</th>\n",
       "      <th>longitude</th>\n",
       "      <th>avg_rating</th>\n",
       "      <th>product_grade</th>\n",
       "      <th>decoration_grade</th>\n",
       "      <th>service_grade</th>\n",
       "      <th>product_score</th>\n",
       "      <th>decoration_score</th>\n",
       "      <th>service_score</th>\n",
       "      <th>review_count</th>\n",
       "      <th>avg_price</th>\n",
       "      <th>photo_count</th>\n",
       "      <th>category</th>\n",
       "    </tr>\n",
       "    <tr>\n",
       "      <th>business_id</th>\n",
       "      <th></th>\n",
       "      <th></th>\n",
       "      <th></th>\n",
       "      <th></th>\n",
       "      <th></th>\n",
       "      <th></th>\n",
       "      <th></th>\n",
       "      <th></th>\n",
       "      <th></th>\n",
       "      <th></th>\n",
       "      <th></th>\n",
       "      <th></th>\n",
       "      <th></th>\n",
       "      <th></th>\n",
       "      <th></th>\n",
       "      <th></th>\n",
       "      <th></th>\n",
       "      <th></th>\n",
       "    </tr>\n",
       "  </thead>\n",
       "  <tbody>\n",
       "    <tr>\n",
       "      <th>503952</th>\n",
       "      <td>ID_API_PROBLEM</td>\n",
       "      <td>None</td>\n",
       "      <td>None</td>\n",
       "      <td>None</td>\n",
       "      <td>None</td>\n",
       "      <td>NaN</td>\n",
       "      <td>NaN</td>\n",
       "      <td>0.0</td>\n",
       "      <td>0.0</td>\n",
       "      <td>0.0</td>\n",
       "      <td>0.0</td>\n",
       "      <td>0.0</td>\n",
       "      <td>0.0</td>\n",
       "      <td>0.0</td>\n",
       "      <td>1092</td>\n",
       "      <td>23.0</td>\n",
       "      <td>NaN</td>\n",
       "      <td>NaN</td>\n",
       "    </tr>\n",
       "    <tr>\n",
       "      <th>506697</th>\n",
       "      <td>紫阳花俱乐部(这是一条测试商户数据，仅用于测试开发，开发完成后请申请正式数据...)</td>\n",
       "      <td></td>\n",
       "      <td>静安区华山路728号</td>\n",
       "      <td>021-62107945</td>\n",
       "      <td>上海</td>\n",
       "      <td>31.215690</td>\n",
       "      <td>121.43956</td>\n",
       "      <td>0.0</td>\n",
       "      <td>0.0</td>\n",
       "      <td>0.0</td>\n",
       "      <td>0.0</td>\n",
       "      <td>0.0</td>\n",
       "      <td>0.0</td>\n",
       "      <td>0.0</td>\n",
       "      <td>4</td>\n",
       "      <td>0.0</td>\n",
       "      <td>1.0</td>\n",
       "      <td>酒吧</td>\n",
       "    </tr>\n",
       "    <tr>\n",
       "      <th>506926</th>\n",
       "      <td>QQ食尚快餐(这是一条测试商户数据，仅用于测试开发，开发完成后请申请正式数据...)</td>\n",
       "      <td></td>\n",
       "      <td>徐汇区老沪闵路715号</td>\n",
       "      <td>021-64241354</td>\n",
       "      <td>上海</td>\n",
       "      <td>31.142511</td>\n",
       "      <td>121.42903</td>\n",
       "      <td>0.0</td>\n",
       "      <td>0.0</td>\n",
       "      <td>0.0</td>\n",
       "      <td>0.0</td>\n",
       "      <td>0.0</td>\n",
       "      <td>0.0</td>\n",
       "      <td>0.0</td>\n",
       "      <td>8</td>\n",
       "      <td>0.0</td>\n",
       "      <td>1.0</td>\n",
       "      <td>快餐简餐</td>\n",
       "    </tr>\n",
       "    <tr>\n",
       "      <th>561512</th>\n",
       "      <td>万丰大酒店(这是一条测试商户数据，仅用于测试开发，开发完成后请申请正式数据...)</td>\n",
       "      <td></td>\n",
       "      <td>浦东新区上南路3719号</td>\n",
       "      <td>021-68527177</td>\n",
       "      <td>上海</td>\n",
       "      <td>31.152372</td>\n",
       "      <td>121.50378</td>\n",
       "      <td>0.0</td>\n",
       "      <td>0.0</td>\n",
       "      <td>0.0</td>\n",
       "      <td>0.0</td>\n",
       "      <td>0.0</td>\n",
       "      <td>0.0</td>\n",
       "      <td>0.0</td>\n",
       "      <td>81</td>\n",
       "      <td>71.0</td>\n",
       "      <td>16.0</td>\n",
       "      <td>本帮菜</td>\n",
       "    </tr>\n",
       "    <tr>\n",
       "      <th>563844</th>\n",
       "      <td>ID_API_PROBLEM</td>\n",
       "      <td>None</td>\n",
       "      <td>None</td>\n",
       "      <td>None</td>\n",
       "      <td>None</td>\n",
       "      <td>NaN</td>\n",
       "      <td>NaN</td>\n",
       "      <td>0.0</td>\n",
       "      <td>0.0</td>\n",
       "      <td>0.0</td>\n",
       "      <td>0.0</td>\n",
       "      <td>0.0</td>\n",
       "      <td>0.0</td>\n",
       "      <td>0.0</td>\n",
       "      <td>2192</td>\n",
       "      <td>0.0</td>\n",
       "      <td>NaN</td>\n",
       "      <td>NaN</td>\n",
       "    </tr>\n",
       "  </tbody>\n",
       "</table>\n",
       "</div>"
      ],
      "text/plain": [
       "                                                   name branch_name  \\\n",
       "business_id                                                           \n",
       "503952                                   ID_API_PROBLEM        None   \n",
       "506697       紫阳花俱乐部(这是一条测试商户数据，仅用于测试开发，开发完成后请申请正式数据...)               \n",
       "506926       QQ食尚快餐(这是一条测试商户数据，仅用于测试开发，开发完成后请申请正式数据...)               \n",
       "561512        万丰大酒店(这是一条测试商户数据，仅用于测试开发，开发完成后请申请正式数据...)               \n",
       "563844                                   ID_API_PROBLEM        None   \n",
       "\n",
       "                  address     telephone  city   latitude  longitude  \\\n",
       "business_id                                                           \n",
       "503952               None          None  None        NaN        NaN   \n",
       "506697         静安区华山路728号  021-62107945    上海  31.215690  121.43956   \n",
       "506926        徐汇区老沪闵路715号  021-64241354    上海  31.142511  121.42903   \n",
       "561512       浦东新区上南路3719号  021-68527177    上海  31.152372  121.50378   \n",
       "563844               None          None  None        NaN        NaN   \n",
       "\n",
       "             avg_rating  product_grade  decoration_grade  service_grade  \\\n",
       "business_id                                                               \n",
       "503952              0.0            0.0               0.0            0.0   \n",
       "506697              0.0            0.0               0.0            0.0   \n",
       "506926              0.0            0.0               0.0            0.0   \n",
       "561512              0.0            0.0               0.0            0.0   \n",
       "563844              0.0            0.0               0.0            0.0   \n",
       "\n",
       "             product_score  decoration_score  service_score  review_count  \\\n",
       "business_id                                                                 \n",
       "503952                 0.0               0.0            0.0          1092   \n",
       "506697                 0.0               0.0            0.0             4   \n",
       "506926                 0.0               0.0            0.0             8   \n",
       "561512                 0.0               0.0            0.0            81   \n",
       "563844                 0.0               0.0            0.0          2192   \n",
       "\n",
       "             avg_price  photo_count category  \n",
       "business_id                                   \n",
       "503952            23.0          NaN      NaN  \n",
       "506697             0.0          1.0       酒吧  \n",
       "506926             0.0          1.0     快餐简餐  \n",
       "561512            71.0         16.0      本帮菜  \n",
       "563844             0.0          NaN      NaN  "
      ]
     },
     "execution_count": 48,
     "metadata": {},
     "output_type": "execute_result"
    }
   ],
   "source": [
    "# Variables / Variables\n",
    "column = \"avg_rating\" # Column name / Nom de la colonne\n",
    "value = 0 # Compared value / Valeur comparee\n",
    "# Functions / Fonctions\n",
    "selectedSize = df[df[column] == value].size # Selection size / Taille de la selection\n",
    "totalSize = df.size # Total size / Taille totale\n",
    "print(\"Amount of values / Nombre de valeurs = \" + str(selectedSize) + \" / \" + str(totalSize) + \" (~ \" + str(int(100 * selectedSize/totalSize)) + \"%)\")\n",
    "df[df[column] == value].head() # Print results / Affichage les resultats"
   ]
  },
  {
   "cell_type": "markdown",
   "metadata": {},
   "source": [
    "### 4.3 Different than ... / Different de ..."
   ]
  },
  {
   "cell_type": "code",
   "execution_count": 5,
   "metadata": {
    "collapsed": true,
    "jupyter": {
     "outputs_hidden": true
    }
   },
   "outputs": [
    {
     "data": {
      "text/html": [
       "<div>\n",
       "<style scoped>\n",
       "    .dataframe tbody tr th:only-of-type {\n",
       "        vertical-align: middle;\n",
       "    }\n",
       "\n",
       "    .dataframe tbody tr th {\n",
       "        vertical-align: top;\n",
       "    }\n",
       "\n",
       "    .dataframe thead th {\n",
       "        text-align: right;\n",
       "    }\n",
       "</style>\n",
       "<table border=\"1\" class=\"dataframe\">\n",
       "  <thead>\n",
       "    <tr style=\"text-align: right;\">\n",
       "      <th></th>\n",
       "      <th>name</th>\n",
       "      <th>branch_name</th>\n",
       "      <th>address</th>\n",
       "      <th>telephone</th>\n",
       "      <th>city</th>\n",
       "      <th>latitude</th>\n",
       "      <th>longitude</th>\n",
       "      <th>avg_rating</th>\n",
       "      <th>product_grade</th>\n",
       "      <th>decoration_grade</th>\n",
       "      <th>service_grade</th>\n",
       "      <th>product_score</th>\n",
       "      <th>decoration_score</th>\n",
       "      <th>service_score</th>\n",
       "      <th>review_count</th>\n",
       "      <th>avg_price</th>\n",
       "      <th>photo_count</th>\n",
       "      <th>category</th>\n",
       "    </tr>\n",
       "    <tr>\n",
       "      <th>business_id</th>\n",
       "      <th></th>\n",
       "      <th></th>\n",
       "      <th></th>\n",
       "      <th></th>\n",
       "      <th></th>\n",
       "      <th></th>\n",
       "      <th></th>\n",
       "      <th></th>\n",
       "      <th></th>\n",
       "      <th></th>\n",
       "      <th></th>\n",
       "      <th></th>\n",
       "      <th></th>\n",
       "      <th></th>\n",
       "      <th></th>\n",
       "      <th></th>\n",
       "      <th></th>\n",
       "      <th></th>\n",
       "    </tr>\n",
       "  </thead>\n",
       "  <tbody>\n",
       "    <tr>\n",
       "      <th>500019</th>\n",
       "      <td>沃歌斯(这是一条测试商户数据，仅用于测试开发，开发完成后请申请正式数据...)</td>\n",
       "      <td>中信泰富店</td>\n",
       "      <td>静安区南京西路1168号中信泰富B1楼</td>\n",
       "      <td>021-52925228</td>\n",
       "      <td>上海</td>\n",
       "      <td>31.228676</td>\n",
       "      <td>121.455765</td>\n",
       "      <td>40.0</td>\n",
       "      <td>1.0</td>\n",
       "      <td>1.0</td>\n",
       "      <td>1.0</td>\n",
       "      <td>7.9</td>\n",
       "      <td>7.8</td>\n",
       "      <td>7.7</td>\n",
       "      <td>855</td>\n",
       "      <td>70.0</td>\n",
       "      <td>414.0</td>\n",
       "      <td>西式简餐</td>\n",
       "    </tr>\n",
       "    <tr>\n",
       "      <th>500057</th>\n",
       "      <td>宝莱纳餐厅(这是一条测试商户数据，仅用于测试开发，开发完成后请申请正式数据...)</td>\n",
       "      <td>新天地店</td>\n",
       "      <td>卢湾区太仓路181弄新天地北里19-20号</td>\n",
       "      <td>021-63203935</td>\n",
       "      <td>上海</td>\n",
       "      <td>31.220670</td>\n",
       "      <td>121.474570</td>\n",
       "      <td>40.0</td>\n",
       "      <td>1.0</td>\n",
       "      <td>1.0</td>\n",
       "      <td>1.0</td>\n",
       "      <td>7.7</td>\n",
       "      <td>8.1</td>\n",
       "      <td>7.3</td>\n",
       "      <td>3621</td>\n",
       "      <td>165.0</td>\n",
       "      <td>2545.0</td>\n",
       "      <td>酒吧</td>\n",
       "    </tr>\n",
       "    <tr>\n",
       "      <th>500058</th>\n",
       "      <td>宝莱纳餐厅(这是一条测试商户数据，仅用于测试开发，开发完成后请申请正式数据...)</td>\n",
       "      <td>汾阳店</td>\n",
       "      <td>徐汇区汾阳路150号</td>\n",
       "      <td>021-64745700</td>\n",
       "      <td>上海</td>\n",
       "      <td>31.209503</td>\n",
       "      <td>121.452490</td>\n",
       "      <td>40.0</td>\n",
       "      <td>1.0</td>\n",
       "      <td>1.0</td>\n",
       "      <td>1.0</td>\n",
       "      <td>7.9</td>\n",
       "      <td>8.4</td>\n",
       "      <td>7.8</td>\n",
       "      <td>3245</td>\n",
       "      <td>170.0</td>\n",
       "      <td>2885.0</td>\n",
       "      <td>酒吧</td>\n",
       "    </tr>\n",
       "    <tr>\n",
       "      <th>500067</th>\n",
       "      <td>避风塘(这是一条测试商户数据，仅用于测试开发，开发完成后请申请正式数据...)</td>\n",
       "      <td>古北店</td>\n",
       "      <td>长宁区水城南路17号万科广场1楼</td>\n",
       "      <td>021-62086388</td>\n",
       "      <td>上海</td>\n",
       "      <td>31.193920</td>\n",
       "      <td>121.393720</td>\n",
       "      <td>35.0</td>\n",
       "      <td>1.0</td>\n",
       "      <td>1.0</td>\n",
       "      <td>1.0</td>\n",
       "      <td>7.6</td>\n",
       "      <td>7.3</td>\n",
       "      <td>6.6</td>\n",
       "      <td>926</td>\n",
       "      <td>81.0</td>\n",
       "      <td>435.0</td>\n",
       "      <td>茶餐厅</td>\n",
       "    </tr>\n",
       "    <tr>\n",
       "      <th>500068</th>\n",
       "      <td>避风塘(这是一条测试商户数据，仅用于测试开发，开发完成后请申请正式数据...)</td>\n",
       "      <td>八佰伴店</td>\n",
       "      <td>浦东新区张杨路501号第一八佰伴9楼</td>\n",
       "      <td>021-58365928</td>\n",
       "      <td>上海</td>\n",
       "      <td>31.228100</td>\n",
       "      <td>121.517460</td>\n",
       "      <td>30.0</td>\n",
       "      <td>1.0</td>\n",
       "      <td>1.0</td>\n",
       "      <td>1.0</td>\n",
       "      <td>7.2</td>\n",
       "      <td>6.8</td>\n",
       "      <td>6.5</td>\n",
       "      <td>4159</td>\n",
       "      <td>78.0</td>\n",
       "      <td>1460.0</td>\n",
       "      <td>茶餐厅</td>\n",
       "    </tr>\n",
       "  </tbody>\n",
       "</table>\n",
       "</div>"
      ],
      "text/plain": [
       "                                                  name branch_name  \\\n",
       "business_id                                                          \n",
       "500019         沃歌斯(这是一条测试商户数据，仅用于测试开发，开发完成后请申请正式数据...)       中信泰富店   \n",
       "500057       宝莱纳餐厅(这是一条测试商户数据，仅用于测试开发，开发完成后请申请正式数据...)        新天地店   \n",
       "500058       宝莱纳餐厅(这是一条测试商户数据，仅用于测试开发，开发完成后请申请正式数据...)         汾阳店   \n",
       "500067         避风塘(这是一条测试商户数据，仅用于测试开发，开发完成后请申请正式数据...)         古北店   \n",
       "500068         避风塘(这是一条测试商户数据，仅用于测试开发，开发完成后请申请正式数据...)        八佰伴店   \n",
       "\n",
       "                           address     telephone city   latitude   longitude  \\\n",
       "business_id                                                                    \n",
       "500019         静安区南京西路1168号中信泰富B1楼  021-52925228   上海  31.228676  121.455765   \n",
       "500057       卢湾区太仓路181弄新天地北里19-20号  021-63203935   上海  31.220670  121.474570   \n",
       "500058                  徐汇区汾阳路150号  021-64745700   上海  31.209503  121.452490   \n",
       "500067            长宁区水城南路17号万科广场1楼  021-62086388   上海  31.193920  121.393720   \n",
       "500068          浦东新区张杨路501号第一八佰伴9楼  021-58365928   上海  31.228100  121.517460   \n",
       "\n",
       "             avg_rating  product_grade  decoration_grade  service_grade  \\\n",
       "business_id                                                               \n",
       "500019             40.0            1.0               1.0            1.0   \n",
       "500057             40.0            1.0               1.0            1.0   \n",
       "500058             40.0            1.0               1.0            1.0   \n",
       "500067             35.0            1.0               1.0            1.0   \n",
       "500068             30.0            1.0               1.0            1.0   \n",
       "\n",
       "             product_score  decoration_score  service_score  review_count  \\\n",
       "business_id                                                                 \n",
       "500019                 7.9               7.8            7.7           855   \n",
       "500057                 7.7               8.1            7.3          3621   \n",
       "500058                 7.9               8.4            7.8          3245   \n",
       "500067                 7.6               7.3            6.6           926   \n",
       "500068                 7.2               6.8            6.5          4159   \n",
       "\n",
       "             avg_price  photo_count category  \n",
       "business_id                                   \n",
       "500019            70.0        414.0     西式简餐  \n",
       "500057           165.0       2545.0       酒吧  \n",
       "500058           170.0       2885.0       酒吧  \n",
       "500067            81.0        435.0      茶餐厅  \n",
       "500068            78.0       1460.0      茶餐厅  "
      ]
     },
     "execution_count": 5,
     "metadata": {},
     "output_type": "execute_result"
    }
   ],
   "source": [
    "# Variables / Variables\n",
    "column = \"avg_rating\" # Column name / Nom de la colonne\n",
    "value = 0 # Compared value / Valeur comparee\n",
    "# Functions / Fonctions\n",
    "selectedSize = df[df[column] != value].size # Selection size / Taille de la selection\n",
    "totalSize = df.size # Total size / Taille totale\n",
    "print(\"Amount of values / Nombre de valeurs = \" + str(selectedSize) + \" / \" + str(totalSize) + \" (~ \" + str(int(100 * selectedSize/totalSize)) + \"%)\")\n",
    "df[df[column] != value].head() # Print results / Affichage les resultats"
   ]
  },
  {
   "cell_type": "markdown",
   "metadata": {},
   "source": [
    "### 4.4 At least ... / Au moins ... "
   ]
  },
  {
   "cell_type": "code",
   "execution_count": 109,
   "metadata": {},
   "outputs": [
    {
     "name": "stdout",
     "output_type": "stream",
     "text": [
      "Amount of values / Nombre de valeurs = 447 / 255888 (~ 0%)\n"
     ]
    },
    {
     "data": {
      "text/html": [
       "<div>\n",
       "<style scoped>\n",
       "    .dataframe tbody tr th:only-of-type {\n",
       "        vertical-align: middle;\n",
       "    }\n",
       "\n",
       "    .dataframe tbody tr th {\n",
       "        vertical-align: top;\n",
       "    }\n",
       "\n",
       "    .dataframe thead th {\n",
       "        text-align: right;\n",
       "    }\n",
       "</style>\n",
       "<table border=\"1\" class=\"dataframe\">\n",
       "  <thead>\n",
       "    <tr style=\"text-align: right;\">\n",
       "      <th></th>\n",
       "      <th>quietness</th>\n",
       "      <th>distance</th>\n",
       "      <th>geometry</th>\n",
       "    </tr>\n",
       "  </thead>\n",
       "  <tbody>\n",
       "    <tr>\n",
       "      <th>115</th>\n",
       "      <td>-1.25325</td>\n",
       "      <td>15016.956055</td>\n",
       "      <td>LINESTRING (120.41422 30.88314, 120.41101 30.8...</td>\n",
       "    </tr>\n",
       "    <tr>\n",
       "      <th>487</th>\n",
       "      <td>-10.00000</td>\n",
       "      <td>15549.641602</td>\n",
       "      <td>LINESTRING (121.69601 31.63084, 121.68967 31.6...</td>\n",
       "    </tr>\n",
       "    <tr>\n",
       "      <th>488</th>\n",
       "      <td>-10.00000</td>\n",
       "      <td>17066.800781</td>\n",
       "      <td>LINESTRING (121.82422 31.54598, 121.82825 31.5...</td>\n",
       "    </tr>\n",
       "    <tr>\n",
       "      <th>1600</th>\n",
       "      <td>-10.00000</td>\n",
       "      <td>23631.394531</td>\n",
       "      <td>LINESTRING (121.69977 31.78324, 121.70283 31.7...</td>\n",
       "    </tr>\n",
       "    <tr>\n",
       "      <th>1904</th>\n",
       "      <td>-10.00000</td>\n",
       "      <td>16257.675781</td>\n",
       "      <td>LINESTRING (120.99470 30.63359, 120.98418 30.6...</td>\n",
       "    </tr>\n",
       "  </tbody>\n",
       "</table>\n",
       "</div>"
      ],
      "text/plain": [
       "      quietness      distance  \\\n",
       "115    -1.25325  15016.956055   \n",
       "487   -10.00000  15549.641602   \n",
       "488   -10.00000  17066.800781   \n",
       "1600  -10.00000  23631.394531   \n",
       "1904  -10.00000  16257.675781   \n",
       "\n",
       "                                               geometry  \n",
       "115   LINESTRING (120.41422 30.88314, 120.41101 30.8...  \n",
       "487   LINESTRING (121.69601 31.63084, 121.68967 31.6...  \n",
       "488   LINESTRING (121.82422 31.54598, 121.82825 31.5...  \n",
       "1600  LINESTRING (121.69977 31.78324, 121.70283 31.7...  \n",
       "1904  LINESTRING (120.99470 30.63359, 120.98418 30.6...  "
      ]
     },
     "execution_count": 109,
     "metadata": {},
     "output_type": "execute_result"
    }
   ],
   "source": [
    "# Variables / Variables\n",
    "column = \"distance\" # Column name / Nom de la colonne\n",
    "value = 15000 # Compared value / Valeur comparee\n",
    "# Functions / Fonctions\n",
    "selectedSize = df[df[column] >= value].size # Selection size / Taille de la selection\n",
    "totalSize = df.size # Total size / Taille totale\n",
    "print(\"Amount of values / Nombre de valeurs = \" + str(selectedSize) + \" / \" + str(totalSize) + \" (~ \" + str(int(100 * selectedSize/totalSize)) + \"%)\")\n",
    "df[df[column] >= value].head() # Print results / Affichage les resultats"
   ]
  },
  {
   "cell_type": "markdown",
   "metadata": {},
   "source": [
    "### 4.5 Smaller than ... / Plus petit que ... "
   ]
  },
  {
   "cell_type": "code",
   "execution_count": 46,
   "metadata": {
    "collapsed": true,
    "jupyter": {
     "outputs_hidden": true
    }
   },
   "outputs": [
    {
     "name": "stdout",
     "output_type": "stream",
     "text": [
      "Amount of values / Nombre de valeurs = 6624324 / 6651720 (~ 99%)\n"
     ]
    },
    {
     "data": {
      "text/html": [
       "<div>\n",
       "<style scoped>\n",
       "    .dataframe tbody tr th:only-of-type {\n",
       "        vertical-align: middle;\n",
       "    }\n",
       "\n",
       "    .dataframe tbody tr th {\n",
       "        vertical-align: top;\n",
       "    }\n",
       "\n",
       "    .dataframe thead th {\n",
       "        text-align: right;\n",
       "    }\n",
       "</style>\n",
       "<table border=\"1\" class=\"dataframe\">\n",
       "  <thead>\n",
       "    <tr style=\"text-align: right;\">\n",
       "      <th></th>\n",
       "      <th>name</th>\n",
       "      <th>branch_name</th>\n",
       "      <th>address</th>\n",
       "      <th>telephone</th>\n",
       "      <th>city</th>\n",
       "      <th>latitude</th>\n",
       "      <th>longitude</th>\n",
       "      <th>avg_rating</th>\n",
       "      <th>product_grade</th>\n",
       "      <th>decoration_grade</th>\n",
       "      <th>service_grade</th>\n",
       "      <th>product_score</th>\n",
       "      <th>decoration_score</th>\n",
       "      <th>service_score</th>\n",
       "      <th>review_count</th>\n",
       "      <th>avg_price</th>\n",
       "      <th>photo_count</th>\n",
       "      <th>category</th>\n",
       "    </tr>\n",
       "    <tr>\n",
       "      <th>business_id</th>\n",
       "      <th></th>\n",
       "      <th></th>\n",
       "      <th></th>\n",
       "      <th></th>\n",
       "      <th></th>\n",
       "      <th></th>\n",
       "      <th></th>\n",
       "      <th></th>\n",
       "      <th></th>\n",
       "      <th></th>\n",
       "      <th></th>\n",
       "      <th></th>\n",
       "      <th></th>\n",
       "      <th></th>\n",
       "      <th></th>\n",
       "      <th></th>\n",
       "      <th></th>\n",
       "      <th></th>\n",
       "    </tr>\n",
       "  </thead>\n",
       "  <tbody>\n",
       "    <tr>\n",
       "      <th>500000</th>\n",
       "      <td>阿凡提美食娱乐城(这是一条测试商户数据，仅用于测试开发，开发完成后请申请正式数据...)</td>\n",
       "      <td></td>\n",
       "      <td>虹口区曲阳路775号天山宾馆B1楼</td>\n",
       "      <td>021-65559604</td>\n",
       "      <td>上海</td>\n",
       "      <td>31.288305</td>\n",
       "      <td>121.490440</td>\n",
       "      <td>30.0</td>\n",
       "      <td>1.0</td>\n",
       "      <td>1.0</td>\n",
       "      <td>1.0</td>\n",
       "      <td>6.8</td>\n",
       "      <td>6.3</td>\n",
       "      <td>6.3</td>\n",
       "      <td>482</td>\n",
       "      <td>81.0</td>\n",
       "      <td>140.0</td>\n",
       "      <td>新疆菜</td>\n",
       "    </tr>\n",
       "    <tr>\n",
       "      <th>500001</th>\n",
       "      <td>萨莎(这是一条测试商户数据，仅用于测试开发，开发完成后请申请正式数据...)</td>\n",
       "      <td></td>\n",
       "      <td>徐汇区东平路11号</td>\n",
       "      <td>021-64746628</td>\n",
       "      <td>上海</td>\n",
       "      <td>31.208550</td>\n",
       "      <td>121.449710</td>\n",
       "      <td>40.0</td>\n",
       "      <td>1.0</td>\n",
       "      <td>1.0</td>\n",
       "      <td>1.0</td>\n",
       "      <td>7.3</td>\n",
       "      <td>8.4</td>\n",
       "      <td>7.4</td>\n",
       "      <td>891</td>\n",
       "      <td>149.0</td>\n",
       "      <td>441.0</td>\n",
       "      <td>酒吧</td>\n",
       "    </tr>\n",
       "    <tr>\n",
       "      <th>500001</th>\n",
       "      <td>萨莎(这是一条测试商户数据，仅用于测试开发，开发完成后请申请正式数据...)</td>\n",
       "      <td></td>\n",
       "      <td>徐汇区东平路11号</td>\n",
       "      <td>021-64746628</td>\n",
       "      <td>上海</td>\n",
       "      <td>31.208550</td>\n",
       "      <td>121.449710</td>\n",
       "      <td>40.0</td>\n",
       "      <td>1.0</td>\n",
       "      <td>1.0</td>\n",
       "      <td>1.0</td>\n",
       "      <td>7.3</td>\n",
       "      <td>8.4</td>\n",
       "      <td>7.4</td>\n",
       "      <td>891</td>\n",
       "      <td>149.0</td>\n",
       "      <td>441.0</td>\n",
       "      <td>牛排</td>\n",
       "    </tr>\n",
       "    <tr>\n",
       "      <th>500003</th>\n",
       "      <td>1221餐馆(这是一条测试商户数据，仅用于测试开发，开发完成后请申请正式数据...)</td>\n",
       "      <td></td>\n",
       "      <td>长宁区延安西路1221号</td>\n",
       "      <td>021-62136585</td>\n",
       "      <td>上海</td>\n",
       "      <td>31.211315</td>\n",
       "      <td>121.427780</td>\n",
       "      <td>35.0</td>\n",
       "      <td>1.0</td>\n",
       "      <td>1.0</td>\n",
       "      <td>1.0</td>\n",
       "      <td>7.1</td>\n",
       "      <td>7.4</td>\n",
       "      <td>7.6</td>\n",
       "      <td>369</td>\n",
       "      <td>144.0</td>\n",
       "      <td>182.0</td>\n",
       "      <td>本帮菜</td>\n",
       "    </tr>\n",
       "    <tr>\n",
       "      <th>500008</th>\n",
       "      <td>Food Live(这是一条测试商户数据，仅用于测试开发，开发完成后请申请正式数据...)</td>\n",
       "      <td></td>\n",
       "      <td>浦东新区世纪大道88号金茂君悦大酒店B1楼</td>\n",
       "      <td>021-50491234-8283</td>\n",
       "      <td>上海</td>\n",
       "      <td>31.235252</td>\n",
       "      <td>121.505745</td>\n",
       "      <td>30.0</td>\n",
       "      <td>1.0</td>\n",
       "      <td>1.0</td>\n",
       "      <td>1.0</td>\n",
       "      <td>6.1</td>\n",
       "      <td>6.3</td>\n",
       "      <td>6.3</td>\n",
       "      <td>38</td>\n",
       "      <td>26.0</td>\n",
       "      <td>12.0</td>\n",
       "      <td>快餐简餐</td>\n",
       "    </tr>\n",
       "  </tbody>\n",
       "</table>\n",
       "</div>"
      ],
      "text/plain": [
       "                                                      name branch_name  \\\n",
       "business_id                                                              \n",
       "500000        阿凡提美食娱乐城(这是一条测试商户数据，仅用于测试开发，开发完成后请申请正式数据...)               \n",
       "500001              萨莎(这是一条测试商户数据，仅用于测试开发，开发完成后请申请正式数据...)               \n",
       "500001              萨莎(这是一条测试商户数据，仅用于测试开发，开发完成后请申请正式数据...)               \n",
       "500003          1221餐馆(这是一条测试商户数据，仅用于测试开发，开发完成后请申请正式数据...)               \n",
       "500008       Food Live(这是一条测试商户数据，仅用于测试开发，开发完成后请申请正式数据...)               \n",
       "\n",
       "                           address          telephone city   latitude  \\\n",
       "business_id                                                             \n",
       "500000           虹口区曲阳路775号天山宾馆B1楼       021-65559604   上海  31.288305   \n",
       "500001                   徐汇区东平路11号       021-64746628   上海  31.208550   \n",
       "500001                   徐汇区东平路11号       021-64746628   上海  31.208550   \n",
       "500003                长宁区延安西路1221号       021-62136585   上海  31.211315   \n",
       "500008       浦东新区世纪大道88号金茂君悦大酒店B1楼  021-50491234-8283   上海  31.235252   \n",
       "\n",
       "              longitude  avg_rating  product_grade  decoration_grade  \\\n",
       "business_id                                                            \n",
       "500000       121.490440        30.0            1.0               1.0   \n",
       "500001       121.449710        40.0            1.0               1.0   \n",
       "500001       121.449710        40.0            1.0               1.0   \n",
       "500003       121.427780        35.0            1.0               1.0   \n",
       "500008       121.505745        30.0            1.0               1.0   \n",
       "\n",
       "             service_grade  product_score  decoration_score  service_score  \\\n",
       "business_id                                                                  \n",
       "500000                 1.0            6.8               6.3            6.3   \n",
       "500001                 1.0            7.3               8.4            7.4   \n",
       "500001                 1.0            7.3               8.4            7.4   \n",
       "500003                 1.0            7.1               7.4            7.6   \n",
       "500008                 1.0            6.1               6.3            6.3   \n",
       "\n",
       "             review_count  avg_price  photo_count category  \n",
       "business_id                                                 \n",
       "500000                482       81.0        140.0      新疆菜  \n",
       "500001                891      149.0        441.0       酒吧  \n",
       "500001                891      149.0        441.0       牛排  \n",
       "500003                369      144.0        182.0      本帮菜  \n",
       "500008                 38       26.0         12.0     快餐简餐  "
      ]
     },
     "execution_count": 46,
     "metadata": {},
     "output_type": "execute_result"
    }
   ],
   "source": [
    "# Variables / Variables\n",
    "column = \"avg_rating\" # Column name / Nom de la colonne\n",
    "value = 50 # Compared value / Valeur comparee\n",
    "# Functions / Fonctions\n",
    "selectedSize = df[df[column] < value].size # Selection size / Taille de la selection\n",
    "totalSize = df.size # Total size / Taille totale\n",
    "print(\"Amount of values / Nombre de valeurs = \" + str(selectedSize) + \" / \" + str(totalSize) + \" (~ \" + str(int(100 * selectedSize/totalSize)) + \"%)\")\n",
    "df[df[column] < value].head() # Print results / Affichage les resultats"
   ]
  },
  {
   "cell_type": "markdown",
   "metadata": {},
   "source": [
    "## 5. Plot / Affichage"
   ]
  },
  {
   "cell_type": "markdown",
   "metadata": {},
   "source": [
    "### 5.1 Barplot / Histogramme"
   ]
  },
  {
   "cell_type": "code",
   "execution_count": 124,
   "metadata": {},
   "outputs": [
    {
     "data": {
      "text/plain": [
       "<matplotlib.axes._subplots.AxesSubplot at 0x7fd043a2ba30>"
      ]
     },
     "execution_count": 124,
     "metadata": {},
     "output_type": "execute_result"
    },
    {
     "data": {
      "image/png": "[encoded data removed]",
      "text/plain": [
       "<Figure size 432x288 with 1 Axes>"
      ]
     },
     "metadata": {
      "needs_background": "light"
     },
     "output_type": "display_data"
    }
   ],
   "source": [
    "# Variables / Variables\n",
    "column = \"quietness\" # Column name / Nom de la colonne\n",
    "# Functions / Fonctions\n",
    "df[column].hist()"
   ]
  },
  {
   "cell_type": "markdown",
   "metadata": {},
   "source": [
    "### 5.2 Simple graph / Graphique Simple"
   ]
  },
  {
   "cell_type": "code",
   "execution_count": 89,
   "metadata": {},
   "outputs": [
    {
     "data": {
      "text/plain": [
       "<matplotlib.axes._subplots.AxesSubplot at 0x7fd04455e100>"
      ]
     },
     "execution_count": 89,
     "metadata": {},
     "output_type": "execute_result"
    },
    {
     "data": {
      "image/png": "[encoded data removed]",
      "text/plain": [
       "<Figure size 432x288 with 1 Axes>"
      ]
     },
     "metadata": {
      "needs_background": "light"
     },
     "output_type": "display_data"
    }
   ],
   "source": [
    "# Variables / Variables\n",
    "column = \"quietness\" # Column name / Nom de la colonne\n",
    "# Functions / Fonctions\n",
    "df[column].plot()"
   ]
  },
  {
   "cell_type": "markdown",
   "metadata": {},
   "source": [
    "### 5.3 Boxplot / Boite a moustaches"
   ]
  },
  {
   "cell_type": "code",
   "execution_count": 108,
   "metadata": {},
   "outputs": [
    {
     "data": {
      "text/plain": [
       "<matplotlib.axes._subplots.AxesSubplot at 0x7fd043a247f0>"
      ]
     },
     "execution_count": 108,
     "metadata": {},
     "output_type": "execute_result"
    },
    {
     "data": {
      "image/png": "[encoded data removed]",
      "text/plain": [
       "<Figure size 432x288 with 1 Axes>"
      ]
     },
     "metadata": {
      "needs_background": "light"
     },
     "output_type": "display_data"
    }
   ],
   "source": [
    "# Variables / Variables\n",
    "column = \"distance\" # Column name / Nom de la colonne\n",
    "# Functions / Fonctions\n",
    "df[[column]].boxplot()"
   ]
  }
 ],
 "metadata": {
  "kernelspec": {
   "display_name": "Python 3",
   "language": "python",
   "name": "python3"
  },
  "language_info": {
   "codemirror_mode": {
    "name": "ipython",
    "version": 3
   },
   "file_extension": ".py",
   "mimetype": "text/x-python",
   "name": "python",
   "nbconvert_exporter": "python",
   "pygments_lexer": "ipython3",
   "version": "3.8.0"
  }
 },
 "nbformat": 4,
 "nbformat_minor": 4
}
